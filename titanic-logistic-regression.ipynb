{
 "cells": [
  {
   "cell_type": "markdown",
   "id": "downtown-strap",
   "metadata": {
    "papermill": {
     "duration": 0.052156,
     "end_time": "2021-05-20T08:04:14.257650",
     "exception": false,
     "start_time": "2021-05-20T08:04:14.205494",
     "status": "completed"
    },
    "tags": []
   },
   "source": [
    "- [1 Input Data and Python Packages](#t1)\n",
    "- [2 Data Preprocessing and Analysis](#t2)\n",
    "    - [2.1 Passenger Class](#t2.1)\n",
    "    - [2.2 Gender](#t2.2)\n",
    "    - [2.3 Age](#t2.3)\n",
    "    - [2.4 Number of Family](#t2.4)\n",
    "    - [2.5 Fare](#t2.5)\n",
    "    - [2.6 Cabin](#t2.6)\n",
    "    - [2.7 Embarked](#t2.7)\n",
    "    - [2.8 Name](#t2.8)\n",
    "    - [2.9 Ticket](#t2.9)\n",
    "- [3 Logistic Regression and Results](#t3)\n",
    "    - [3.1 Feature selection](#t3.1)\n",
    "    - [3.2 Review of model evaluation procedures](#t3.2)\n",
    "        - [3.2.1 Model evaluation based on simple train/test split using `train_test_split()` function](#t3.2.1)\n",
    "        - [3.2.2. Model evaluation based on K-fold cross-validation using `cross_val_score()` function](#t3.2.2)\n",
    "        - [3.2.3. Model evaluation based on K-fold cross-validation using `cross_validate()` function](#t3.2.3)\n",
    "    - [3.3 GridSearchCV evaluating using multiple scorers simultaneously](#t3.3)\n",
    "    - [3.4 GridSearchCV evaluating using multiple scorers, RepeatedStratifiedKFold and pipeline for preprocessing simultaneously](#t3.4)\n",
    "- [4 Generate Prediction Results](#t4)\n",
    "\n",
    "    \n",
    "\n",
    "\n",
    "Reference:\n",
    "1. <https://www.kaggle.com/mnassrib/titanic-logistic-regression-with-python>"
   ]
  },
  {
   "cell_type": "markdown",
   "id": "eastern-mistress",
   "metadata": {
    "papermill": {
     "duration": 0.051358,
     "end_time": "2021-05-20T08:04:14.360878",
     "exception": false,
     "start_time": "2021-05-20T08:04:14.309520",
     "status": "completed"
    },
    "tags": []
   },
   "source": [
    "<a id=\"t1\"></a>\n",
    "# 1 Input Data and Python Packages"
   ]
  },
  {
   "cell_type": "code",
   "execution_count": 1,
   "id": "derived-mexico",
   "metadata": {
    "execution": {
     "iopub.execute_input": "2021-05-20T08:04:14.475131Z",
     "iopub.status.busy": "2021-05-20T08:04:14.474461Z",
     "iopub.status.idle": "2021-05-20T08:04:15.437081Z",
     "shell.execute_reply": "2021-05-20T08:04:15.436035Z",
     "shell.execute_reply.started": "2021-05-20T08:00:47.206153Z"
    },
    "papermill": {
     "duration": 1.025157,
     "end_time": "2021-05-20T08:04:15.437259",
     "exception": false,
     "start_time": "2021-05-20T08:04:14.412102",
     "status": "completed"
    },
    "tags": []
   },
   "outputs": [],
   "source": [
    "import numpy as np \n",
    "import pandas as pd \n",
    "\n",
    "from sklearn import preprocessing\n",
    "import matplotlib.pyplot as plt \n",
    "plt.rc(\"font\", size=14)\n",
    "import seaborn as sns\n",
    "sns.set(style=\"white\") #white background style for seaborn plots\n",
    "sns.set(style=\"whitegrid\", color_codes=True)\n",
    "\n",
    "import warnings\n",
    "warnings.simplefilter(action='ignore')"
   ]
  },
  {
   "cell_type": "code",
   "execution_count": 2,
   "id": "recreational-feeding",
   "metadata": {
    "execution": {
     "iopub.execute_input": "2021-05-20T08:04:15.546994Z",
     "iopub.status.busy": "2021-05-20T08:04:15.546202Z",
     "iopub.status.idle": "2021-05-20T08:04:15.596654Z",
     "shell.execute_reply": "2021-05-20T08:04:15.597128Z",
     "shell.execute_reply.started": "2021-05-20T08:00:48.077326Z"
    },
    "papermill": {
     "duration": 0.108289,
     "end_time": "2021-05-20T08:04:15.597297",
     "exception": false,
     "start_time": "2021-05-20T08:04:15.489008",
     "status": "completed"
    },
    "tags": []
   },
   "outputs": [
    {
     "data": {
      "text/html": [
       "<div>\n",
       "<style scoped>\n",
       "    .dataframe tbody tr th:only-of-type {\n",
       "        vertical-align: middle;\n",
       "    }\n",
       "\n",
       "    .dataframe tbody tr th {\n",
       "        vertical-align: top;\n",
       "    }\n",
       "\n",
       "    .dataframe thead th {\n",
       "        text-align: right;\n",
       "    }\n",
       "</style>\n",
       "<table border=\"1\" class=\"dataframe\">\n",
       "  <thead>\n",
       "    <tr style=\"text-align: right;\">\n",
       "      <th></th>\n",
       "      <th>PassengerId</th>\n",
       "      <th>Survived</th>\n",
       "      <th>Pclass</th>\n",
       "      <th>Name</th>\n",
       "      <th>Sex</th>\n",
       "      <th>Age</th>\n",
       "      <th>SibSp</th>\n",
       "      <th>Parch</th>\n",
       "      <th>Ticket</th>\n",
       "      <th>Fare</th>\n",
       "      <th>Cabin</th>\n",
       "      <th>Embarked</th>\n",
       "    </tr>\n",
       "  </thead>\n",
       "  <tbody>\n",
       "    <tr>\n",
       "      <th>0</th>\n",
       "      <td>1</td>\n",
       "      <td>0</td>\n",
       "      <td>3</td>\n",
       "      <td>Braund, Mr. Owen Harris</td>\n",
       "      <td>male</td>\n",
       "      <td>22.0</td>\n",
       "      <td>1</td>\n",
       "      <td>0</td>\n",
       "      <td>A/5 21171</td>\n",
       "      <td>7.2500</td>\n",
       "      <td>NaN</td>\n",
       "      <td>S</td>\n",
       "    </tr>\n",
       "    <tr>\n",
       "      <th>1</th>\n",
       "      <td>2</td>\n",
       "      <td>1</td>\n",
       "      <td>1</td>\n",
       "      <td>Cumings, Mrs. John Bradley (Florence Briggs Th...</td>\n",
       "      <td>female</td>\n",
       "      <td>38.0</td>\n",
       "      <td>1</td>\n",
       "      <td>0</td>\n",
       "      <td>PC 17599</td>\n",
       "      <td>71.2833</td>\n",
       "      <td>C85</td>\n",
       "      <td>C</td>\n",
       "    </tr>\n",
       "    <tr>\n",
       "      <th>2</th>\n",
       "      <td>3</td>\n",
       "      <td>1</td>\n",
       "      <td>3</td>\n",
       "      <td>Heikkinen, Miss. Laina</td>\n",
       "      <td>female</td>\n",
       "      <td>26.0</td>\n",
       "      <td>0</td>\n",
       "      <td>0</td>\n",
       "      <td>STON/O2. 3101282</td>\n",
       "      <td>7.9250</td>\n",
       "      <td>NaN</td>\n",
       "      <td>S</td>\n",
       "    </tr>\n",
       "    <tr>\n",
       "      <th>3</th>\n",
       "      <td>4</td>\n",
       "      <td>1</td>\n",
       "      <td>1</td>\n",
       "      <td>Futrelle, Mrs. Jacques Heath (Lily May Peel)</td>\n",
       "      <td>female</td>\n",
       "      <td>35.0</td>\n",
       "      <td>1</td>\n",
       "      <td>0</td>\n",
       "      <td>113803</td>\n",
       "      <td>53.1000</td>\n",
       "      <td>C123</td>\n",
       "      <td>S</td>\n",
       "    </tr>\n",
       "    <tr>\n",
       "      <th>4</th>\n",
       "      <td>5</td>\n",
       "      <td>0</td>\n",
       "      <td>3</td>\n",
       "      <td>Allen, Mr. William Henry</td>\n",
       "      <td>male</td>\n",
       "      <td>35.0</td>\n",
       "      <td>0</td>\n",
       "      <td>0</td>\n",
       "      <td>373450</td>\n",
       "      <td>8.0500</td>\n",
       "      <td>NaN</td>\n",
       "      <td>S</td>\n",
       "    </tr>\n",
       "  </tbody>\n",
       "</table>\n",
       "</div>"
      ],
      "text/plain": [
       "   PassengerId  Survived  Pclass  \\\n",
       "0            1         0       3   \n",
       "1            2         1       1   \n",
       "2            3         1       3   \n",
       "3            4         1       1   \n",
       "4            5         0       3   \n",
       "\n",
       "                                                Name     Sex   Age  SibSp  \\\n",
       "0                            Braund, Mr. Owen Harris    male  22.0      1   \n",
       "1  Cumings, Mrs. John Bradley (Florence Briggs Th...  female  38.0      1   \n",
       "2                             Heikkinen, Miss. Laina  female  26.0      0   \n",
       "3       Futrelle, Mrs. Jacques Heath (Lily May Peel)  female  35.0      1   \n",
       "4                           Allen, Mr. William Henry    male  35.0      0   \n",
       "\n",
       "   Parch            Ticket     Fare Cabin Embarked  \n",
       "0      0         A/5 21171   7.2500   NaN        S  \n",
       "1      0          PC 17599  71.2833   C85        C  \n",
       "2      0  STON/O2. 3101282   7.9250   NaN        S  \n",
       "3      0            113803  53.1000  C123        S  \n",
       "4      0            373450   8.0500   NaN        S  "
      ]
     },
     "execution_count": 2,
     "metadata": {},
     "output_type": "execute_result"
    }
   ],
   "source": [
    "# Read CSV train data file into DataFrame\n",
    "train_df = pd.read_csv(\"../input/titanic/train.csv\")\n",
    "\n",
    "# Read CSV test data file into DataFrame\n",
    "test_df = pd.read_csv(\"../input/titanic/test.csv\")\n",
    "\n",
    "# preview train data\n",
    "train_df.head()"
   ]
  },
  {
   "cell_type": "code",
   "execution_count": 3,
   "id": "compact-parallel",
   "metadata": {
    "execution": {
     "iopub.execute_input": "2021-05-20T08:04:15.705009Z",
     "iopub.status.busy": "2021-05-20T08:04:15.704381Z",
     "iopub.status.idle": "2021-05-20T08:04:15.709617Z",
     "shell.execute_reply": "2021-05-20T08:04:15.710136Z",
     "shell.execute_reply.started": "2021-05-20T08:00:48.135955Z"
    },
    "papermill": {
     "duration": 0.060905,
     "end_time": "2021-05-20T08:04:15.710305",
     "exception": false,
     "start_time": "2021-05-20T08:04:15.649400",
     "status": "completed"
    },
    "tags": []
   },
   "outputs": [
    {
     "name": "stdout",
     "output_type": "stream",
     "text": [
      "The number of samples into the train data is 891.\n"
     ]
    }
   ],
   "source": [
    "print('The number of samples into the train data is {}.'.format(train_df.shape[0]))"
   ]
  },
  {
   "cell_type": "code",
   "execution_count": 4,
   "id": "sunset-facial",
   "metadata": {
    "execution": {
     "iopub.execute_input": "2021-05-20T08:04:15.836615Z",
     "iopub.status.busy": "2021-05-20T08:04:15.835965Z",
     "iopub.status.idle": "2021-05-20T08:04:15.858757Z",
     "shell.execute_reply": "2021-05-20T08:04:15.858236Z",
     "shell.execute_reply.started": "2021-05-20T08:00:48.142977Z"
    },
    "papermill": {
     "duration": 0.090413,
     "end_time": "2021-05-20T08:04:15.858898",
     "exception": false,
     "start_time": "2021-05-20T08:04:15.768485",
     "status": "completed"
    },
    "tags": []
   },
   "outputs": [
    {
     "data": {
      "text/html": [
       "<div>\n",
       "<style scoped>\n",
       "    .dataframe tbody tr th:only-of-type {\n",
       "        vertical-align: middle;\n",
       "    }\n",
       "\n",
       "    .dataframe tbody tr th {\n",
       "        vertical-align: top;\n",
       "    }\n",
       "\n",
       "    .dataframe thead th {\n",
       "        text-align: right;\n",
       "    }\n",
       "</style>\n",
       "<table border=\"1\" class=\"dataframe\">\n",
       "  <thead>\n",
       "    <tr style=\"text-align: right;\">\n",
       "      <th></th>\n",
       "      <th>PassengerId</th>\n",
       "      <th>Pclass</th>\n",
       "      <th>Name</th>\n",
       "      <th>Sex</th>\n",
       "      <th>Age</th>\n",
       "      <th>SibSp</th>\n",
       "      <th>Parch</th>\n",
       "      <th>Ticket</th>\n",
       "      <th>Fare</th>\n",
       "      <th>Cabin</th>\n",
       "      <th>Embarked</th>\n",
       "    </tr>\n",
       "  </thead>\n",
       "  <tbody>\n",
       "    <tr>\n",
       "      <th>0</th>\n",
       "      <td>892</td>\n",
       "      <td>3</td>\n",
       "      <td>Kelly, Mr. James</td>\n",
       "      <td>male</td>\n",
       "      <td>34.5</td>\n",
       "      <td>0</td>\n",
       "      <td>0</td>\n",
       "      <td>330911</td>\n",
       "      <td>7.8292</td>\n",
       "      <td>NaN</td>\n",
       "      <td>Q</td>\n",
       "    </tr>\n",
       "    <tr>\n",
       "      <th>1</th>\n",
       "      <td>893</td>\n",
       "      <td>3</td>\n",
       "      <td>Wilkes, Mrs. James (Ellen Needs)</td>\n",
       "      <td>female</td>\n",
       "      <td>47.0</td>\n",
       "      <td>1</td>\n",
       "      <td>0</td>\n",
       "      <td>363272</td>\n",
       "      <td>7.0000</td>\n",
       "      <td>NaN</td>\n",
       "      <td>S</td>\n",
       "    </tr>\n",
       "    <tr>\n",
       "      <th>2</th>\n",
       "      <td>894</td>\n",
       "      <td>2</td>\n",
       "      <td>Myles, Mr. Thomas Francis</td>\n",
       "      <td>male</td>\n",
       "      <td>62.0</td>\n",
       "      <td>0</td>\n",
       "      <td>0</td>\n",
       "      <td>240276</td>\n",
       "      <td>9.6875</td>\n",
       "      <td>NaN</td>\n",
       "      <td>Q</td>\n",
       "    </tr>\n",
       "    <tr>\n",
       "      <th>3</th>\n",
       "      <td>895</td>\n",
       "      <td>3</td>\n",
       "      <td>Wirz, Mr. Albert</td>\n",
       "      <td>male</td>\n",
       "      <td>27.0</td>\n",
       "      <td>0</td>\n",
       "      <td>0</td>\n",
       "      <td>315154</td>\n",
       "      <td>8.6625</td>\n",
       "      <td>NaN</td>\n",
       "      <td>S</td>\n",
       "    </tr>\n",
       "    <tr>\n",
       "      <th>4</th>\n",
       "      <td>896</td>\n",
       "      <td>3</td>\n",
       "      <td>Hirvonen, Mrs. Alexander (Helga E Lindqvist)</td>\n",
       "      <td>female</td>\n",
       "      <td>22.0</td>\n",
       "      <td>1</td>\n",
       "      <td>1</td>\n",
       "      <td>3101298</td>\n",
       "      <td>12.2875</td>\n",
       "      <td>NaN</td>\n",
       "      <td>S</td>\n",
       "    </tr>\n",
       "  </tbody>\n",
       "</table>\n",
       "</div>"
      ],
      "text/plain": [
       "   PassengerId  Pclass                                          Name     Sex  \\\n",
       "0          892       3                              Kelly, Mr. James    male   \n",
       "1          893       3              Wilkes, Mrs. James (Ellen Needs)  female   \n",
       "2          894       2                     Myles, Mr. Thomas Francis    male   \n",
       "3          895       3                              Wirz, Mr. Albert    male   \n",
       "4          896       3  Hirvonen, Mrs. Alexander (Helga E Lindqvist)  female   \n",
       "\n",
       "    Age  SibSp  Parch   Ticket     Fare Cabin Embarked  \n",
       "0  34.5      0      0   330911   7.8292   NaN        Q  \n",
       "1  47.0      1      0   363272   7.0000   NaN        S  \n",
       "2  62.0      0      0   240276   9.6875   NaN        Q  \n",
       "3  27.0      0      0   315154   8.6625   NaN        S  \n",
       "4  22.0      1      1  3101298  12.2875   NaN        S  "
      ]
     },
     "execution_count": 4,
     "metadata": {},
     "output_type": "execute_result"
    }
   ],
   "source": [
    "# preview test data\n",
    "test_df.head()"
   ]
  },
  {
   "cell_type": "code",
   "execution_count": 5,
   "id": "outer-action",
   "metadata": {
    "execution": {
     "iopub.execute_input": "2021-05-20T08:04:15.971363Z",
     "iopub.status.busy": "2021-05-20T08:04:15.970728Z",
     "iopub.status.idle": "2021-05-20T08:04:15.973196Z",
     "shell.execute_reply": "2021-05-20T08:04:15.973697Z",
     "shell.execute_reply.started": "2021-05-20T08:00:48.169006Z"
    },
    "papermill": {
     "duration": 0.061215,
     "end_time": "2021-05-20T08:04:15.973853",
     "exception": false,
     "start_time": "2021-05-20T08:04:15.912638",
     "status": "completed"
    },
    "tags": []
   },
   "outputs": [
    {
     "name": "stdout",
     "output_type": "stream",
     "text": [
      "The number of samples into the test data is 418.\n"
     ]
    }
   ],
   "source": [
    "print('The number of samples into the test data is {}.'.format(test_df.shape[0]))"
   ]
  },
  {
   "cell_type": "markdown",
   "id": "extended-dealing",
   "metadata": {
    "papermill": {
     "duration": 0.05247,
     "end_time": "2021-05-20T08:04:16.078932",
     "exception": false,
     "start_time": "2021-05-20T08:04:16.026462",
     "status": "completed"
    },
    "tags": []
   },
   "source": [
    "<a id=\"t2\"></a>\n",
    "# 2 Data Preprocessing and Analysis"
   ]
  },
  {
   "cell_type": "code",
   "execution_count": 6,
   "id": "cultural-electric",
   "metadata": {
    "execution": {
     "iopub.execute_input": "2021-05-20T08:04:16.188759Z",
     "iopub.status.busy": "2021-05-20T08:04:16.188135Z",
     "iopub.status.idle": "2021-05-20T08:04:16.196089Z",
     "shell.execute_reply": "2021-05-20T08:04:16.196530Z",
     "shell.execute_reply.started": "2021-05-20T08:00:48.175977Z"
    },
    "papermill": {
     "duration": 0.063719,
     "end_time": "2021-05-20T08:04:16.196716",
     "exception": false,
     "start_time": "2021-05-20T08:04:16.132997",
     "status": "completed"
    },
    "tags": []
   },
   "outputs": [],
   "source": [
    "train_data = train_df.copy()\n",
    "test_data = test_df.copy()\n",
    "\n",
    "train_data.drop('PassengerId', axis=1, inplace=True)\n",
    "test_data.drop('PassengerId', axis=1, inplace=True)"
   ]
  },
  {
   "cell_type": "code",
   "execution_count": 7,
   "id": "phantom-delta",
   "metadata": {
    "execution": {
     "iopub.execute_input": "2021-05-20T08:04:16.307700Z",
     "iopub.status.busy": "2021-05-20T08:04:16.307069Z",
     "iopub.status.idle": "2021-05-20T08:04:16.314268Z",
     "shell.execute_reply": "2021-05-20T08:04:16.314768Z",
     "shell.execute_reply.started": "2021-05-20T08:00:48.191636Z"
    },
    "papermill": {
     "duration": 0.064684,
     "end_time": "2021-05-20T08:04:16.314939",
     "exception": false,
     "start_time": "2021-05-20T08:04:16.250255",
     "status": "completed"
    },
    "tags": []
   },
   "outputs": [
    {
     "data": {
      "text/plain": [
       "Survived      0\n",
       "Pclass        0\n",
       "Name          0\n",
       "Sex           0\n",
       "Age         177\n",
       "SibSp         0\n",
       "Parch         0\n",
       "Ticket        0\n",
       "Fare          0\n",
       "Cabin       687\n",
       "Embarked      2\n",
       "dtype: int64"
      ]
     },
     "execution_count": 7,
     "metadata": {},
     "output_type": "execute_result"
    }
   ],
   "source": [
    "# check missing values in train data\n",
    "train_data.isnull().sum()"
   ]
  },
  {
   "cell_type": "markdown",
   "id": "built-iraqi",
   "metadata": {
    "papermill": {
     "duration": 0.05272,
     "end_time": "2021-05-20T08:04:16.420906",
     "exception": false,
     "start_time": "2021-05-20T08:04:16.368186",
     "status": "completed"
    },
    "tags": []
   },
   "source": [
    "`Age`, `Cabin` and `Embarked` variables in `test_data` have missing data. Remember to fill them."
   ]
  },
  {
   "cell_type": "code",
   "execution_count": 8,
   "id": "dated-career",
   "metadata": {
    "execution": {
     "iopub.execute_input": "2021-05-20T08:04:16.529734Z",
     "iopub.status.busy": "2021-05-20T08:04:16.529087Z",
     "iopub.status.idle": "2021-05-20T08:04:16.536006Z",
     "shell.execute_reply": "2021-05-20T08:04:16.536476Z",
     "shell.execute_reply.started": "2021-05-20T08:00:48.206972Z"
    },
    "papermill": {
     "duration": 0.062893,
     "end_time": "2021-05-20T08:04:16.536658",
     "exception": false,
     "start_time": "2021-05-20T08:04:16.473765",
     "status": "completed"
    },
    "tags": []
   },
   "outputs": [
    {
     "data": {
      "text/plain": [
       "Pclass        0\n",
       "Name          0\n",
       "Sex           0\n",
       "Age          86\n",
       "SibSp         0\n",
       "Parch         0\n",
       "Ticket        0\n",
       "Fare          1\n",
       "Cabin       327\n",
       "Embarked      0\n",
       "dtype: int64"
      ]
     },
     "execution_count": 8,
     "metadata": {},
     "output_type": "execute_result"
    }
   ],
   "source": [
    "# check missing values in test data\n",
    "test_data.isnull().sum()"
   ]
  },
  {
   "cell_type": "markdown",
   "id": "trying-contributor",
   "metadata": {
    "papermill": {
     "duration": 0.052855,
     "end_time": "2021-05-20T08:04:16.643094",
     "exception": false,
     "start_time": "2021-05-20T08:04:16.590239",
     "status": "completed"
    },
    "tags": []
   },
   "source": [
    "`Age`, `Fare` and `Cabin` variables in `test_data` have missing data. Remember to fill them."
   ]
  },
  {
   "cell_type": "markdown",
   "id": "numerical-lesbian",
   "metadata": {
    "papermill": {
     "duration": 0.053443,
     "end_time": "2021-05-20T08:04:16.750027",
     "exception": false,
     "start_time": "2021-05-20T08:04:16.696584",
     "status": "completed"
    },
    "tags": []
   },
   "source": [
    "<a id=\"t2.1\"></a>\n",
    "## 2.1 Passenger Class"
   ]
  },
  {
   "cell_type": "code",
   "execution_count": 9,
   "id": "incorporate-grocery",
   "metadata": {
    "execution": {
     "iopub.execute_input": "2021-05-20T08:04:16.866153Z",
     "iopub.status.busy": "2021-05-20T08:04:16.863077Z",
     "iopub.status.idle": "2021-05-20T08:04:17.146141Z",
     "shell.execute_reply": "2021-05-20T08:04:17.145640Z",
     "shell.execute_reply.started": "2021-05-20T08:00:48.219409Z"
    },
    "papermill": {
     "duration": 0.342246,
     "end_time": "2021-05-20T08:04:17.146278",
     "exception": false,
     "start_time": "2021-05-20T08:04:16.804032",
     "status": "completed"
    },
    "tags": []
   },
   "outputs": [
    {
     "data": {
      "image/png": "[encoded data removed]",
      "text/plain": [
       "<Figure size 432x288 with 1 Axes>"
      ]
     },
     "metadata": {},
     "output_type": "display_data"
    }
   ],
   "source": [
    "sns.barplot('Pclass', 'Survived', data=train_data)\n",
    "plt.show()"
   ]
  },
  {
   "cell_type": "markdown",
   "id": "preliminary-wayne",
   "metadata": {
    "papermill": {
     "duration": 0.053879,
     "end_time": "2021-05-20T08:04:17.254749",
     "exception": false,
     "start_time": "2021-05-20T08:04:17.200870",
     "status": "completed"
    },
    "tags": []
   },
   "source": [
    "The first class has the greatest chance of surviving."
   ]
  },
  {
   "cell_type": "code",
   "execution_count": 10,
   "id": "liked-census",
   "metadata": {
    "execution": {
     "iopub.execute_input": "2021-05-20T08:04:17.370952Z",
     "iopub.status.busy": "2021-05-20T08:04:17.370256Z",
     "iopub.status.idle": "2021-05-20T08:04:17.388648Z",
     "shell.execute_reply": "2021-05-20T08:04:17.389123Z",
     "shell.execute_reply.started": "2021-05-20T08:00:48.503636Z"
    },
    "papermill": {
     "duration": 0.079824,
     "end_time": "2021-05-20T08:04:17.389284",
     "exception": false,
     "start_time": "2021-05-20T08:04:17.309460",
     "status": "completed"
    },
    "tags": []
   },
   "outputs": [
    {
     "data": {
      "text/html": [
       "<div>\n",
       "<style scoped>\n",
       "    .dataframe tbody tr th:only-of-type {\n",
       "        vertical-align: middle;\n",
       "    }\n",
       "\n",
       "    .dataframe tbody tr th {\n",
       "        vertical-align: top;\n",
       "    }\n",
       "\n",
       "    .dataframe thead th {\n",
       "        text-align: right;\n",
       "    }\n",
       "</style>\n",
       "<table border=\"1\" class=\"dataframe\">\n",
       "  <thead>\n",
       "    <tr style=\"text-align: right;\">\n",
       "      <th></th>\n",
       "      <th>Survived</th>\n",
       "      <th>Name</th>\n",
       "      <th>Sex</th>\n",
       "      <th>Age</th>\n",
       "      <th>SibSp</th>\n",
       "      <th>Parch</th>\n",
       "      <th>Ticket</th>\n",
       "      <th>Fare</th>\n",
       "      <th>Cabin</th>\n",
       "      <th>Embarked</th>\n",
       "      <th>Pclass_1</th>\n",
       "      <th>Pclass_2</th>\n",
       "      <th>Pclass_3</th>\n",
       "    </tr>\n",
       "  </thead>\n",
       "  <tbody>\n",
       "    <tr>\n",
       "      <th>0</th>\n",
       "      <td>0</td>\n",
       "      <td>Braund, Mr. Owen Harris</td>\n",
       "      <td>male</td>\n",
       "      <td>22.0</td>\n",
       "      <td>1</td>\n",
       "      <td>0</td>\n",
       "      <td>A/5 21171</td>\n",
       "      <td>7.2500</td>\n",
       "      <td>NaN</td>\n",
       "      <td>S</td>\n",
       "      <td>0</td>\n",
       "      <td>0</td>\n",
       "      <td>1</td>\n",
       "    </tr>\n",
       "    <tr>\n",
       "      <th>1</th>\n",
       "      <td>1</td>\n",
       "      <td>Cumings, Mrs. John Bradley (Florence Briggs Th...</td>\n",
       "      <td>female</td>\n",
       "      <td>38.0</td>\n",
       "      <td>1</td>\n",
       "      <td>0</td>\n",
       "      <td>PC 17599</td>\n",
       "      <td>71.2833</td>\n",
       "      <td>C85</td>\n",
       "      <td>C</td>\n",
       "      <td>1</td>\n",
       "      <td>0</td>\n",
       "      <td>0</td>\n",
       "    </tr>\n",
       "    <tr>\n",
       "      <th>2</th>\n",
       "      <td>1</td>\n",
       "      <td>Heikkinen, Miss. Laina</td>\n",
       "      <td>female</td>\n",
       "      <td>26.0</td>\n",
       "      <td>0</td>\n",
       "      <td>0</td>\n",
       "      <td>STON/O2. 3101282</td>\n",
       "      <td>7.9250</td>\n",
       "      <td>NaN</td>\n",
       "      <td>S</td>\n",
       "      <td>0</td>\n",
       "      <td>0</td>\n",
       "      <td>1</td>\n",
       "    </tr>\n",
       "    <tr>\n",
       "      <th>3</th>\n",
       "      <td>1</td>\n",
       "      <td>Futrelle, Mrs. Jacques Heath (Lily May Peel)</td>\n",
       "      <td>female</td>\n",
       "      <td>35.0</td>\n",
       "      <td>1</td>\n",
       "      <td>0</td>\n",
       "      <td>113803</td>\n",
       "      <td>53.1000</td>\n",
       "      <td>C123</td>\n",
       "      <td>S</td>\n",
       "      <td>1</td>\n",
       "      <td>0</td>\n",
       "      <td>0</td>\n",
       "    </tr>\n",
       "    <tr>\n",
       "      <th>4</th>\n",
       "      <td>0</td>\n",
       "      <td>Allen, Mr. William Henry</td>\n",
       "      <td>male</td>\n",
       "      <td>35.0</td>\n",
       "      <td>0</td>\n",
       "      <td>0</td>\n",
       "      <td>373450</td>\n",
       "      <td>8.0500</td>\n",
       "      <td>NaN</td>\n",
       "      <td>S</td>\n",
       "      <td>0</td>\n",
       "      <td>0</td>\n",
       "      <td>1</td>\n",
       "    </tr>\n",
       "  </tbody>\n",
       "</table>\n",
       "</div>"
      ],
      "text/plain": [
       "   Survived                                               Name     Sex   Age  \\\n",
       "0         0                            Braund, Mr. Owen Harris    male  22.0   \n",
       "1         1  Cumings, Mrs. John Bradley (Florence Briggs Th...  female  38.0   \n",
       "2         1                             Heikkinen, Miss. Laina  female  26.0   \n",
       "3         1       Futrelle, Mrs. Jacques Heath (Lily May Peel)  female  35.0   \n",
       "4         0                           Allen, Mr. William Henry    male  35.0   \n",
       "\n",
       "   SibSp  Parch            Ticket     Fare Cabin Embarked  Pclass_1  Pclass_2  \\\n",
       "0      1      0         A/5 21171   7.2500   NaN        S         0         0   \n",
       "1      1      0          PC 17599  71.2833   C85        C         1         0   \n",
       "2      0      0  STON/O2. 3101282   7.9250   NaN        S         0         0   \n",
       "3      1      0            113803  53.1000  C123        S         1         0   \n",
       "4      0      0            373450   8.0500   NaN        S         0         0   \n",
       "\n",
       "   Pclass_3  \n",
       "0         1  \n",
       "1         0  \n",
       "2         1  \n",
       "3         0  \n",
       "4         1  "
      ]
     },
     "execution_count": 10,
     "metadata": {},
     "output_type": "execute_result"
    }
   ],
   "source": [
    "#create one-hot code for Pclass in train_data\n",
    "train_data = pd.get_dummies(train_data, columns=[\"Pclass\"])\n",
    "train_data.head()"
   ]
  },
  {
   "cell_type": "code",
   "execution_count": 11,
   "id": "responsible-defense",
   "metadata": {
    "execution": {
     "iopub.execute_input": "2021-05-20T08:04:17.503151Z",
     "iopub.status.busy": "2021-05-20T08:04:17.502463Z",
     "iopub.status.idle": "2021-05-20T08:04:17.522897Z",
     "shell.execute_reply": "2021-05-20T08:04:17.523411Z",
     "shell.execute_reply.started": "2021-05-20T08:00:48.531029Z"
    },
    "papermill": {
     "duration": 0.078496,
     "end_time": "2021-05-20T08:04:17.523598",
     "exception": false,
     "start_time": "2021-05-20T08:04:17.445102",
     "status": "completed"
    },
    "tags": []
   },
   "outputs": [
    {
     "data": {
      "text/html": [
       "<div>\n",
       "<style scoped>\n",
       "    .dataframe tbody tr th:only-of-type {\n",
       "        vertical-align: middle;\n",
       "    }\n",
       "\n",
       "    .dataframe tbody tr th {\n",
       "        vertical-align: top;\n",
       "    }\n",
       "\n",
       "    .dataframe thead th {\n",
       "        text-align: right;\n",
       "    }\n",
       "</style>\n",
       "<table border=\"1\" class=\"dataframe\">\n",
       "  <thead>\n",
       "    <tr style=\"text-align: right;\">\n",
       "      <th></th>\n",
       "      <th>Name</th>\n",
       "      <th>Sex</th>\n",
       "      <th>Age</th>\n",
       "      <th>SibSp</th>\n",
       "      <th>Parch</th>\n",
       "      <th>Ticket</th>\n",
       "      <th>Fare</th>\n",
       "      <th>Cabin</th>\n",
       "      <th>Embarked</th>\n",
       "      <th>Pclass_1</th>\n",
       "      <th>Pclass_2</th>\n",
       "      <th>Pclass_3</th>\n",
       "    </tr>\n",
       "  </thead>\n",
       "  <tbody>\n",
       "    <tr>\n",
       "      <th>0</th>\n",
       "      <td>Kelly, Mr. James</td>\n",
       "      <td>male</td>\n",
       "      <td>34.5</td>\n",
       "      <td>0</td>\n",
       "      <td>0</td>\n",
       "      <td>330911</td>\n",
       "      <td>7.8292</td>\n",
       "      <td>NaN</td>\n",
       "      <td>Q</td>\n",
       "      <td>0</td>\n",
       "      <td>0</td>\n",
       "      <td>1</td>\n",
       "    </tr>\n",
       "    <tr>\n",
       "      <th>1</th>\n",
       "      <td>Wilkes, Mrs. James (Ellen Needs)</td>\n",
       "      <td>female</td>\n",
       "      <td>47.0</td>\n",
       "      <td>1</td>\n",
       "      <td>0</td>\n",
       "      <td>363272</td>\n",
       "      <td>7.0000</td>\n",
       "      <td>NaN</td>\n",
       "      <td>S</td>\n",
       "      <td>0</td>\n",
       "      <td>0</td>\n",
       "      <td>1</td>\n",
       "    </tr>\n",
       "    <tr>\n",
       "      <th>2</th>\n",
       "      <td>Myles, Mr. Thomas Francis</td>\n",
       "      <td>male</td>\n",
       "      <td>62.0</td>\n",
       "      <td>0</td>\n",
       "      <td>0</td>\n",
       "      <td>240276</td>\n",
       "      <td>9.6875</td>\n",
       "      <td>NaN</td>\n",
       "      <td>Q</td>\n",
       "      <td>0</td>\n",
       "      <td>1</td>\n",
       "      <td>0</td>\n",
       "    </tr>\n",
       "    <tr>\n",
       "      <th>3</th>\n",
       "      <td>Wirz, Mr. Albert</td>\n",
       "      <td>male</td>\n",
       "      <td>27.0</td>\n",
       "      <td>0</td>\n",
       "      <td>0</td>\n",
       "      <td>315154</td>\n",
       "      <td>8.6625</td>\n",
       "      <td>NaN</td>\n",
       "      <td>S</td>\n",
       "      <td>0</td>\n",
       "      <td>0</td>\n",
       "      <td>1</td>\n",
       "    </tr>\n",
       "    <tr>\n",
       "      <th>4</th>\n",
       "      <td>Hirvonen, Mrs. Alexander (Helga E Lindqvist)</td>\n",
       "      <td>female</td>\n",
       "      <td>22.0</td>\n",
       "      <td>1</td>\n",
       "      <td>1</td>\n",
       "      <td>3101298</td>\n",
       "      <td>12.2875</td>\n",
       "      <td>NaN</td>\n",
       "      <td>S</td>\n",
       "      <td>0</td>\n",
       "      <td>0</td>\n",
       "      <td>1</td>\n",
       "    </tr>\n",
       "  </tbody>\n",
       "</table>\n",
       "</div>"
      ],
      "text/plain": [
       "                                           Name     Sex   Age  SibSp  Parch  \\\n",
       "0                              Kelly, Mr. James    male  34.5      0      0   \n",
       "1              Wilkes, Mrs. James (Ellen Needs)  female  47.0      1      0   \n",
       "2                     Myles, Mr. Thomas Francis    male  62.0      0      0   \n",
       "3                              Wirz, Mr. Albert    male  27.0      0      0   \n",
       "4  Hirvonen, Mrs. Alexander (Helga E Lindqvist)  female  22.0      1      1   \n",
       "\n",
       "    Ticket     Fare Cabin Embarked  Pclass_1  Pclass_2  Pclass_3  \n",
       "0   330911   7.8292   NaN        Q         0         0         1  \n",
       "1   363272   7.0000   NaN        S         0         0         1  \n",
       "2   240276   9.6875   NaN        Q         0         1         0  \n",
       "3   315154   8.6625   NaN        S         0         0         1  \n",
       "4  3101298  12.2875   NaN        S         0         0         1  "
      ]
     },
     "execution_count": 11,
     "metadata": {},
     "output_type": "execute_result"
    }
   ],
   "source": [
    "#create one-hot code for Pclass in test_data\n",
    "test_data = pd.get_dummies(test_data, columns=[\"Pclass\"])\n",
    "test_data.head()"
   ]
  },
  {
   "cell_type": "markdown",
   "id": "finnish-hungary",
   "metadata": {
    "papermill": {
     "duration": 0.055232,
     "end_time": "2021-05-20T08:04:17.634693",
     "exception": false,
     "start_time": "2021-05-20T08:04:17.579461",
     "status": "completed"
    },
    "tags": []
   },
   "source": [
    "<a id=\"t2.2\"></a>\n",
    "## 2.2 Gender"
   ]
  },
  {
   "cell_type": "code",
   "execution_count": 12,
   "id": "reported-python",
   "metadata": {
    "execution": {
     "iopub.execute_input": "2021-05-20T08:04:17.747425Z",
     "iopub.status.busy": "2021-05-20T08:04:17.746817Z",
     "iopub.status.idle": "2021-05-20T08:04:17.957491Z",
     "shell.execute_reply": "2021-05-20T08:04:17.956873Z",
     "shell.execute_reply.started": "2021-05-20T08:00:48.555066Z"
    },
    "papermill": {
     "duration": 0.268159,
     "end_time": "2021-05-20T08:04:17.957644",
     "exception": false,
     "start_time": "2021-05-20T08:04:17.689485",
     "status": "completed"
    },
    "tags": []
   },
   "outputs": [
    {
     "data": {
      "image/png": "[encoded data removed]",
      "text/plain": [
       "<Figure size 432x288 with 1 Axes>"
      ]
     },
     "metadata": {},
     "output_type": "display_data"
    }
   ],
   "source": [
    "sns.barplot('Sex', 'Survived', data=train_data)\n",
    "plt.show()"
   ]
  },
  {
   "cell_type": "markdown",
   "id": "needed-supplement",
   "metadata": {
    "papermill": {
     "duration": 0.055892,
     "end_time": "2021-05-20T08:04:18.069404",
     "exception": false,
     "start_time": "2021-05-20T08:04:18.013512",
     "status": "completed"
    },
    "tags": []
   },
   "source": [
    "Women's survival probability is about four times that of men."
   ]
  },
  {
   "cell_type": "code",
   "execution_count": 13,
   "id": "local-reservoir",
   "metadata": {
    "execution": {
     "iopub.execute_input": "2021-05-20T08:04:18.191244Z",
     "iopub.status.busy": "2021-05-20T08:04:18.188231Z",
     "iopub.status.idle": "2021-05-20T08:04:18.212337Z",
     "shell.execute_reply": "2021-05-20T08:04:18.211850Z",
     "shell.execute_reply.started": "2021-05-20T08:00:48.760001Z"
    },
    "papermill": {
     "duration": 0.086163,
     "end_time": "2021-05-20T08:04:18.212471",
     "exception": false,
     "start_time": "2021-05-20T08:04:18.126308",
     "status": "completed"
    },
    "tags": []
   },
   "outputs": [
    {
     "data": {
      "text/html": [
       "<div>\n",
       "<style scoped>\n",
       "    .dataframe tbody tr th:only-of-type {\n",
       "        vertical-align: middle;\n",
       "    }\n",
       "\n",
       "    .dataframe tbody tr th {\n",
       "        vertical-align: top;\n",
       "    }\n",
       "\n",
       "    .dataframe thead th {\n",
       "        text-align: right;\n",
       "    }\n",
       "</style>\n",
       "<table border=\"1\" class=\"dataframe\">\n",
       "  <thead>\n",
       "    <tr style=\"text-align: right;\">\n",
       "      <th></th>\n",
       "      <th>Survived</th>\n",
       "      <th>Name</th>\n",
       "      <th>Age</th>\n",
       "      <th>SibSp</th>\n",
       "      <th>Parch</th>\n",
       "      <th>Ticket</th>\n",
       "      <th>Fare</th>\n",
       "      <th>Cabin</th>\n",
       "      <th>Embarked</th>\n",
       "      <th>Pclass_1</th>\n",
       "      <th>Pclass_2</th>\n",
       "      <th>Pclass_3</th>\n",
       "      <th>Sex_male</th>\n",
       "    </tr>\n",
       "  </thead>\n",
       "  <tbody>\n",
       "    <tr>\n",
       "      <th>0</th>\n",
       "      <td>0</td>\n",
       "      <td>Braund, Mr. Owen Harris</td>\n",
       "      <td>22.0</td>\n",
       "      <td>1</td>\n",
       "      <td>0</td>\n",
       "      <td>A/5 21171</td>\n",
       "      <td>7.2500</td>\n",
       "      <td>NaN</td>\n",
       "      <td>S</td>\n",
       "      <td>0</td>\n",
       "      <td>0</td>\n",
       "      <td>1</td>\n",
       "      <td>1</td>\n",
       "    </tr>\n",
       "    <tr>\n",
       "      <th>1</th>\n",
       "      <td>1</td>\n",
       "      <td>Cumings, Mrs. John Bradley (Florence Briggs Th...</td>\n",
       "      <td>38.0</td>\n",
       "      <td>1</td>\n",
       "      <td>0</td>\n",
       "      <td>PC 17599</td>\n",
       "      <td>71.2833</td>\n",
       "      <td>C85</td>\n",
       "      <td>C</td>\n",
       "      <td>1</td>\n",
       "      <td>0</td>\n",
       "      <td>0</td>\n",
       "      <td>0</td>\n",
       "    </tr>\n",
       "    <tr>\n",
       "      <th>2</th>\n",
       "      <td>1</td>\n",
       "      <td>Heikkinen, Miss. Laina</td>\n",
       "      <td>26.0</td>\n",
       "      <td>0</td>\n",
       "      <td>0</td>\n",
       "      <td>STON/O2. 3101282</td>\n",
       "      <td>7.9250</td>\n",
       "      <td>NaN</td>\n",
       "      <td>S</td>\n",
       "      <td>0</td>\n",
       "      <td>0</td>\n",
       "      <td>1</td>\n",
       "      <td>0</td>\n",
       "    </tr>\n",
       "    <tr>\n",
       "      <th>3</th>\n",
       "      <td>1</td>\n",
       "      <td>Futrelle, Mrs. Jacques Heath (Lily May Peel)</td>\n",
       "      <td>35.0</td>\n",
       "      <td>1</td>\n",
       "      <td>0</td>\n",
       "      <td>113803</td>\n",
       "      <td>53.1000</td>\n",
       "      <td>C123</td>\n",
       "      <td>S</td>\n",
       "      <td>1</td>\n",
       "      <td>0</td>\n",
       "      <td>0</td>\n",
       "      <td>0</td>\n",
       "    </tr>\n",
       "    <tr>\n",
       "      <th>4</th>\n",
       "      <td>0</td>\n",
       "      <td>Allen, Mr. William Henry</td>\n",
       "      <td>35.0</td>\n",
       "      <td>0</td>\n",
       "      <td>0</td>\n",
       "      <td>373450</td>\n",
       "      <td>8.0500</td>\n",
       "      <td>NaN</td>\n",
       "      <td>S</td>\n",
       "      <td>0</td>\n",
       "      <td>0</td>\n",
       "      <td>1</td>\n",
       "      <td>1</td>\n",
       "    </tr>\n",
       "  </tbody>\n",
       "</table>\n",
       "</div>"
      ],
      "text/plain": [
       "   Survived                                               Name   Age  SibSp  \\\n",
       "0         0                            Braund, Mr. Owen Harris  22.0      1   \n",
       "1         1  Cumings, Mrs. John Bradley (Florence Briggs Th...  38.0      1   \n",
       "2         1                             Heikkinen, Miss. Laina  26.0      0   \n",
       "3         1       Futrelle, Mrs. Jacques Heath (Lily May Peel)  35.0      1   \n",
       "4         0                           Allen, Mr. William Henry  35.0      0   \n",
       "\n",
       "   Parch            Ticket     Fare Cabin Embarked  Pclass_1  Pclass_2  \\\n",
       "0      0         A/5 21171   7.2500   NaN        S         0         0   \n",
       "1      0          PC 17599  71.2833   C85        C         1         0   \n",
       "2      0  STON/O2. 3101282   7.9250   NaN        S         0         0   \n",
       "3      0            113803  53.1000  C123        S         1         0   \n",
       "4      0            373450   8.0500   NaN        S         0         0   \n",
       "\n",
       "   Pclass_3  Sex_male  \n",
       "0         1         1  \n",
       "1         0         0  \n",
       "2         1         0  \n",
       "3         0         0  \n",
       "4         1         1  "
      ]
     },
     "execution_count": 13,
     "metadata": {},
     "output_type": "execute_result"
    }
   ],
   "source": [
    "#create one-hot code for Sex in train_data\n",
    "train_data = pd.get_dummies(train_data, columns=[\"Sex\"])\n",
    "train_data.drop('Sex_female', axis=1, inplace=True)\n",
    "train_data.head()"
   ]
  },
  {
   "cell_type": "code",
   "execution_count": 14,
   "id": "numeric-eight",
   "metadata": {
    "execution": {
     "iopub.execute_input": "2021-05-20T08:04:18.335997Z",
     "iopub.status.busy": "2021-05-20T08:04:18.331323Z",
     "iopub.status.idle": "2021-05-20T08:04:18.350032Z",
     "shell.execute_reply": "2021-05-20T08:04:18.350566Z",
     "shell.execute_reply.started": "2021-05-20T08:00:48.788054Z"
    },
    "papermill": {
     "duration": 0.081755,
     "end_time": "2021-05-20T08:04:18.350737",
     "exception": false,
     "start_time": "2021-05-20T08:04:18.268982",
     "status": "completed"
    },
    "tags": []
   },
   "outputs": [
    {
     "data": {
      "text/html": [
       "<div>\n",
       "<style scoped>\n",
       "    .dataframe tbody tr th:only-of-type {\n",
       "        vertical-align: middle;\n",
       "    }\n",
       "\n",
       "    .dataframe tbody tr th {\n",
       "        vertical-align: top;\n",
       "    }\n",
       "\n",
       "    .dataframe thead th {\n",
       "        text-align: right;\n",
       "    }\n",
       "</style>\n",
       "<table border=\"1\" class=\"dataframe\">\n",
       "  <thead>\n",
       "    <tr style=\"text-align: right;\">\n",
       "      <th></th>\n",
       "      <th>Name</th>\n",
       "      <th>Age</th>\n",
       "      <th>SibSp</th>\n",
       "      <th>Parch</th>\n",
       "      <th>Ticket</th>\n",
       "      <th>Fare</th>\n",
       "      <th>Cabin</th>\n",
       "      <th>Embarked</th>\n",
       "      <th>Pclass_1</th>\n",
       "      <th>Pclass_2</th>\n",
       "      <th>Pclass_3</th>\n",
       "      <th>Sex_male</th>\n",
       "    </tr>\n",
       "  </thead>\n",
       "  <tbody>\n",
       "    <tr>\n",
       "      <th>0</th>\n",
       "      <td>Kelly, Mr. James</td>\n",
       "      <td>34.5</td>\n",
       "      <td>0</td>\n",
       "      <td>0</td>\n",
       "      <td>330911</td>\n",
       "      <td>7.8292</td>\n",
       "      <td>NaN</td>\n",
       "      <td>Q</td>\n",
       "      <td>0</td>\n",
       "      <td>0</td>\n",
       "      <td>1</td>\n",
       "      <td>1</td>\n",
       "    </tr>\n",
       "    <tr>\n",
       "      <th>1</th>\n",
       "      <td>Wilkes, Mrs. James (Ellen Needs)</td>\n",
       "      <td>47.0</td>\n",
       "      <td>1</td>\n",
       "      <td>0</td>\n",
       "      <td>363272</td>\n",
       "      <td>7.0000</td>\n",
       "      <td>NaN</td>\n",
       "      <td>S</td>\n",
       "      <td>0</td>\n",
       "      <td>0</td>\n",
       "      <td>1</td>\n",
       "      <td>0</td>\n",
       "    </tr>\n",
       "    <tr>\n",
       "      <th>2</th>\n",
       "      <td>Myles, Mr. Thomas Francis</td>\n",
       "      <td>62.0</td>\n",
       "      <td>0</td>\n",
       "      <td>0</td>\n",
       "      <td>240276</td>\n",
       "      <td>9.6875</td>\n",
       "      <td>NaN</td>\n",
       "      <td>Q</td>\n",
       "      <td>0</td>\n",
       "      <td>1</td>\n",
       "      <td>0</td>\n",
       "      <td>1</td>\n",
       "    </tr>\n",
       "    <tr>\n",
       "      <th>3</th>\n",
       "      <td>Wirz, Mr. Albert</td>\n",
       "      <td>27.0</td>\n",
       "      <td>0</td>\n",
       "      <td>0</td>\n",
       "      <td>315154</td>\n",
       "      <td>8.6625</td>\n",
       "      <td>NaN</td>\n",
       "      <td>S</td>\n",
       "      <td>0</td>\n",
       "      <td>0</td>\n",
       "      <td>1</td>\n",
       "      <td>1</td>\n",
       "    </tr>\n",
       "    <tr>\n",
       "      <th>4</th>\n",
       "      <td>Hirvonen, Mrs. Alexander (Helga E Lindqvist)</td>\n",
       "      <td>22.0</td>\n",
       "      <td>1</td>\n",
       "      <td>1</td>\n",
       "      <td>3101298</td>\n",
       "      <td>12.2875</td>\n",
       "      <td>NaN</td>\n",
       "      <td>S</td>\n",
       "      <td>0</td>\n",
       "      <td>0</td>\n",
       "      <td>1</td>\n",
       "      <td>0</td>\n",
       "    </tr>\n",
       "  </tbody>\n",
       "</table>\n",
       "</div>"
      ],
      "text/plain": [
       "                                           Name   Age  SibSp  Parch   Ticket  \\\n",
       "0                              Kelly, Mr. James  34.5      0      0   330911   \n",
       "1              Wilkes, Mrs. James (Ellen Needs)  47.0      1      0   363272   \n",
       "2                     Myles, Mr. Thomas Francis  62.0      0      0   240276   \n",
       "3                              Wirz, Mr. Albert  27.0      0      0   315154   \n",
       "4  Hirvonen, Mrs. Alexander (Helga E Lindqvist)  22.0      1      1  3101298   \n",
       "\n",
       "      Fare Cabin Embarked  Pclass_1  Pclass_2  Pclass_3  Sex_male  \n",
       "0   7.8292   NaN        Q         0         0         1         1  \n",
       "1   7.0000   NaN        S         0         0         1         0  \n",
       "2   9.6875   NaN        Q         0         1         0         1  \n",
       "3   8.6625   NaN        S         0         0         1         1  \n",
       "4  12.2875   NaN        S         0         0         1         0  "
      ]
     },
     "execution_count": 14,
     "metadata": {},
     "output_type": "execute_result"
    }
   ],
   "source": [
    "#create one-hot code for Sex in test_data\n",
    "test_data = pd.get_dummies(test_data, columns=[\"Sex\"])\n",
    "test_data.drop('Sex_female', axis=1, inplace=True)\n",
    "test_data.head()"
   ]
  },
  {
   "cell_type": "markdown",
   "id": "arabic-lafayette",
   "metadata": {
    "papermill": {
     "duration": 0.057258,
     "end_time": "2021-05-20T08:04:18.465126",
     "exception": false,
     "start_time": "2021-05-20T08:04:18.407868",
     "status": "completed"
    },
    "tags": []
   },
   "source": [
    "<a id=\"t2.3\"></a>\n",
    "## 2.3 Age"
   ]
  },
  {
   "cell_type": "code",
   "execution_count": 15,
   "id": "surface-youth",
   "metadata": {
    "execution": {
     "iopub.execute_input": "2021-05-20T08:04:18.585109Z",
     "iopub.status.busy": "2021-05-20T08:04:18.584428Z",
     "iopub.status.idle": "2021-05-20T08:04:18.588295Z",
     "shell.execute_reply": "2021-05-20T08:04:18.587759Z",
     "shell.execute_reply.started": "2021-05-20T08:00:48.812241Z"
    },
    "papermill": {
     "duration": 0.065572,
     "end_time": "2021-05-20T08:04:18.588428",
     "exception": false,
     "start_time": "2021-05-20T08:04:18.522856",
     "status": "completed"
    },
    "tags": []
   },
   "outputs": [
    {
     "name": "stdout",
     "output_type": "stream",
     "text": [
      "Percent of missing \"Age\" records is 19.87%\n"
     ]
    }
   ],
   "source": [
    "# percent of missing \"Age\" \n",
    "print('Percent of missing \"Age\" records is %.2f%%' %((train_data['Age'].isnull().sum()/train_data.shape[0])*100))"
   ]
  },
  {
   "cell_type": "markdown",
   "id": "built-tournament",
   "metadata": {
    "papermill": {
     "duration": 0.056614,
     "end_time": "2021-05-20T08:04:18.704501",
     "exception": false,
     "start_time": "2021-05-20T08:04:18.647887",
     "status": "completed"
    },
    "tags": []
   },
   "source": [
    "Let's see what the `Age` variable looks like in general."
   ]
  },
  {
   "cell_type": "code",
   "execution_count": 16,
   "id": "political-hearts",
   "metadata": {
    "execution": {
     "iopub.execute_input": "2021-05-20T08:04:18.825307Z",
     "iopub.status.busy": "2021-05-20T08:04:18.824679Z",
     "iopub.status.idle": "2021-05-20T08:04:19.224887Z",
     "shell.execute_reply": "2021-05-20T08:04:19.224389Z",
     "shell.execute_reply.started": "2021-05-20T08:00:48.817955Z"
    },
    "papermill": {
     "duration": 0.462811,
     "end_time": "2021-05-20T08:04:19.225023",
     "exception": false,
     "start_time": "2021-05-20T08:04:18.762212",
     "status": "completed"
    },
    "tags": []
   },
   "outputs": [
    {
     "data": {
      "image/png": "[encoded data removed]",
      "text/plain": [
       "<Figure size 432x288 with 1 Axes>"
      ]
     },
     "metadata": {},
     "output_type": "display_data"
    }
   ],
   "source": [
    "ax = train_data[\"Age\"].hist(bins=80, density=True, stacked=True,  alpha=0.4)\n",
    "train_data[\"Age\"].plot(kind='density')\n",
    "ax.set(xlabel='Age')\n",
    "plt.xlim(0,85)\n",
    "plt.show()"
   ]
  },
  {
   "cell_type": "markdown",
   "id": "global-nebraska",
   "metadata": {
    "papermill": {
     "duration": 0.058669,
     "end_time": "2021-05-20T08:04:19.342145",
     "exception": false,
     "start_time": "2021-05-20T08:04:19.283476",
     "status": "completed"
    },
    "tags": []
   },
   "source": [
    "Since \"Age\" is (right) skewed, using the mean might give us biased results by filling in ages that are older than desired. To deal with this, we'll use the median to impute the missing values."
   ]
  },
  {
   "cell_type": "code",
   "execution_count": 17,
   "id": "central-planet",
   "metadata": {
    "execution": {
     "iopub.execute_input": "2021-05-20T08:04:19.463957Z",
     "iopub.status.busy": "2021-05-20T08:04:19.463291Z",
     "iopub.status.idle": "2021-05-20T08:04:19.468665Z",
     "shell.execute_reply": "2021-05-20T08:04:19.469196Z",
     "shell.execute_reply.started": "2021-05-20T08:00:49.209233Z"
    },
    "papermill": {
     "duration": 0.068818,
     "end_time": "2021-05-20T08:04:19.469353",
     "exception": false,
     "start_time": "2021-05-20T08:04:19.400535",
     "status": "completed"
    },
    "tags": []
   },
   "outputs": [
    {
     "name": "stdout",
     "output_type": "stream",
     "text": [
      "The mean of \"Age\" is 29.70.\n",
      "The median of \"Age\" is 28.00.\n"
     ]
    }
   ],
   "source": [
    "# mean age\n",
    "print('The mean of \"Age\" is %.2f.' %(train_data[\"Age\"].mean(skipna=True)))\n",
    "# median age\n",
    "print('The median of \"Age\" is %.2f.' %(train_data[\"Age\"].median(skipna=True)))"
   ]
  },
  {
   "cell_type": "code",
   "execution_count": 18,
   "id": "color-response",
   "metadata": {
    "execution": {
     "iopub.execute_input": "2021-05-20T08:04:19.588850Z",
     "iopub.status.busy": "2021-05-20T08:04:19.588237Z",
     "iopub.status.idle": "2021-05-20T08:04:19.605411Z",
     "shell.execute_reply": "2021-05-20T08:04:19.606022Z",
     "shell.execute_reply.started": "2021-05-20T08:00:49.216970Z"
    },
    "papermill": {
     "duration": 0.078527,
     "end_time": "2021-05-20T08:04:19.606195",
     "exception": false,
     "start_time": "2021-05-20T08:04:19.527668",
     "status": "completed"
    },
    "tags": []
   },
   "outputs": [
    {
     "data": {
      "text/html": [
       "<div>\n",
       "<style scoped>\n",
       "    .dataframe tbody tr th:only-of-type {\n",
       "        vertical-align: middle;\n",
       "    }\n",
       "\n",
       "    .dataframe tbody tr th {\n",
       "        vertical-align: top;\n",
       "    }\n",
       "\n",
       "    .dataframe thead th {\n",
       "        text-align: right;\n",
       "    }\n",
       "</style>\n",
       "<table border=\"1\" class=\"dataframe\">\n",
       "  <thead>\n",
       "    <tr style=\"text-align: right;\">\n",
       "      <th></th>\n",
       "      <th>Survived</th>\n",
       "      <th>Name</th>\n",
       "      <th>Age</th>\n",
       "      <th>SibSp</th>\n",
       "      <th>Parch</th>\n",
       "      <th>Ticket</th>\n",
       "      <th>Fare</th>\n",
       "      <th>Cabin</th>\n",
       "      <th>Embarked</th>\n",
       "      <th>Pclass_1</th>\n",
       "      <th>Pclass_2</th>\n",
       "      <th>Pclass_3</th>\n",
       "      <th>Sex_male</th>\n",
       "    </tr>\n",
       "  </thead>\n",
       "  <tbody>\n",
       "    <tr>\n",
       "      <th>0</th>\n",
       "      <td>0</td>\n",
       "      <td>Braund, Mr. Owen Harris</td>\n",
       "      <td>22.0</td>\n",
       "      <td>1</td>\n",
       "      <td>0</td>\n",
       "      <td>A/5 21171</td>\n",
       "      <td>7.2500</td>\n",
       "      <td>NaN</td>\n",
       "      <td>S</td>\n",
       "      <td>0</td>\n",
       "      <td>0</td>\n",
       "      <td>1</td>\n",
       "      <td>1</td>\n",
       "    </tr>\n",
       "    <tr>\n",
       "      <th>1</th>\n",
       "      <td>1</td>\n",
       "      <td>Cumings, Mrs. John Bradley (Florence Briggs Th...</td>\n",
       "      <td>38.0</td>\n",
       "      <td>1</td>\n",
       "      <td>0</td>\n",
       "      <td>PC 17599</td>\n",
       "      <td>71.2833</td>\n",
       "      <td>C85</td>\n",
       "      <td>C</td>\n",
       "      <td>1</td>\n",
       "      <td>0</td>\n",
       "      <td>0</td>\n",
       "      <td>0</td>\n",
       "    </tr>\n",
       "    <tr>\n",
       "      <th>2</th>\n",
       "      <td>1</td>\n",
       "      <td>Heikkinen, Miss. Laina</td>\n",
       "      <td>26.0</td>\n",
       "      <td>0</td>\n",
       "      <td>0</td>\n",
       "      <td>STON/O2. 3101282</td>\n",
       "      <td>7.9250</td>\n",
       "      <td>NaN</td>\n",
       "      <td>S</td>\n",
       "      <td>0</td>\n",
       "      <td>0</td>\n",
       "      <td>1</td>\n",
       "      <td>0</td>\n",
       "    </tr>\n",
       "    <tr>\n",
       "      <th>3</th>\n",
       "      <td>1</td>\n",
       "      <td>Futrelle, Mrs. Jacques Heath (Lily May Peel)</td>\n",
       "      <td>35.0</td>\n",
       "      <td>1</td>\n",
       "      <td>0</td>\n",
       "      <td>113803</td>\n",
       "      <td>53.1000</td>\n",
       "      <td>C123</td>\n",
       "      <td>S</td>\n",
       "      <td>1</td>\n",
       "      <td>0</td>\n",
       "      <td>0</td>\n",
       "      <td>0</td>\n",
       "    </tr>\n",
       "    <tr>\n",
       "      <th>4</th>\n",
       "      <td>0</td>\n",
       "      <td>Allen, Mr. William Henry</td>\n",
       "      <td>35.0</td>\n",
       "      <td>0</td>\n",
       "      <td>0</td>\n",
       "      <td>373450</td>\n",
       "      <td>8.0500</td>\n",
       "      <td>NaN</td>\n",
       "      <td>S</td>\n",
       "      <td>0</td>\n",
       "      <td>0</td>\n",
       "      <td>1</td>\n",
       "      <td>1</td>\n",
       "    </tr>\n",
       "  </tbody>\n",
       "</table>\n",
       "</div>"
      ],
      "text/plain": [
       "   Survived                                               Name   Age  SibSp  \\\n",
       "0         0                            Braund, Mr. Owen Harris  22.0      1   \n",
       "1         1  Cumings, Mrs. John Bradley (Florence Briggs Th...  38.0      1   \n",
       "2         1                             Heikkinen, Miss. Laina  26.0      0   \n",
       "3         1       Futrelle, Mrs. Jacques Heath (Lily May Peel)  35.0      1   \n",
       "4         0                           Allen, Mr. William Henry  35.0      0   \n",
       "\n",
       "   Parch            Ticket     Fare Cabin Embarked  Pclass_1  Pclass_2  \\\n",
       "0      0         A/5 21171   7.2500   NaN        S         0         0   \n",
       "1      0          PC 17599  71.2833   C85        C         1         0   \n",
       "2      0  STON/O2. 3101282   7.9250   NaN        S         0         0   \n",
       "3      0            113803  53.1000  C123        S         1         0   \n",
       "4      0            373450   8.0500   NaN        S         0         0   \n",
       "\n",
       "   Pclass_3  Sex_male  \n",
       "0         1         1  \n",
       "1         0         0  \n",
       "2         1         0  \n",
       "3         0         0  \n",
       "4         1         1  "
      ]
     },
     "execution_count": 18,
     "metadata": {},
     "output_type": "execute_result"
    }
   ],
   "source": [
    "# use median age to fill Nan in train_data\n",
    "train_data[\"Age\"].fillna(train_df[\"Age\"].median(skipna=True), inplace=True)\n",
    "train_data.head()"
   ]
  },
  {
   "cell_type": "code",
   "execution_count": 19,
   "id": "diverse-departure",
   "metadata": {
    "execution": {
     "iopub.execute_input": "2021-05-20T08:04:19.727539Z",
     "iopub.status.busy": "2021-05-20T08:04:19.726946Z",
     "iopub.status.idle": "2021-05-20T08:04:20.521975Z",
     "shell.execute_reply": "2021-05-20T08:04:20.522415Z",
     "shell.execute_reply.started": "2021-05-20T08:00:49.244423Z"
    },
    "papermill": {
     "duration": 0.856975,
     "end_time": "2021-05-20T08:04:20.522599",
     "exception": false,
     "start_time": "2021-05-20T08:04:19.665624",
     "status": "completed"
    },
    "tags": []
   },
   "outputs": [
    {
     "data": {
      "image/png": "[encoded data removed]",
      "text/plain": [
       "<Figure size 1080x576 with 1 Axes>"
      ]
     },
     "metadata": {},
     "output_type": "display_data"
    }
   ],
   "source": [
    "plt.figure(figsize=(15,8))\n",
    "ax = train_df[\"Age\"].hist(bins=80, density=True, stacked=True, color='blue', alpha=0.6)\n",
    "train_df[\"Age\"].plot(kind='density', color='blue')\n",
    "ax = train_data[\"Age\"].hist(bins=80, density=True, stacked=True, color='orange', alpha=0.5)\n",
    "train_data[\"Age\"].plot(kind='density', color='orange')\n",
    "ax.legend(['Raw Age', 'Adjusted Age'])\n",
    "ax.set(xlabel='Age')\n",
    "plt.xlim(0,85)\n",
    "plt.show()"
   ]
  },
  {
   "cell_type": "code",
   "execution_count": 20,
   "id": "impressed-dining",
   "metadata": {
    "execution": {
     "iopub.execute_input": "2021-05-20T08:04:20.651845Z",
     "iopub.status.busy": "2021-05-20T08:04:20.651168Z",
     "iopub.status.idle": "2021-05-20T08:04:20.944030Z",
     "shell.execute_reply": "2021-05-20T08:04:20.943404Z",
     "shell.execute_reply.started": "2021-05-20T08:00:50.016286Z"
    },
    "papermill": {
     "duration": 0.360487,
     "end_time": "2021-05-20T08:04:20.944164",
     "exception": false,
     "start_time": "2021-05-20T08:04:20.583677",
     "status": "completed"
    },
    "tags": []
   },
   "outputs": [
    {
     "data": {
      "image/png": "[encoded data removed]",
      "text/plain": [
       "<Figure size 1080x576 with 1 Axes>"
      ]
     },
     "metadata": {},
     "output_type": "display_data"
    }
   ],
   "source": [
    "plt.figure(figsize=(15,8))\n",
    "ax = sns.kdeplot(train_data[\"Age\"][train_data.Survived == 1], color=\"darkturquoise\", shade=True)\n",
    "sns.kdeplot(train_data[\"Age\"][train_data.Survived == 0], color=\"lightcoral\", shade=True)\n",
    "plt.legend(['Survived', 'Died'])\n",
    "plt.title('Density Plot of Age for Surviving Population and Deceased Population')\n",
    "ax.set(xlabel='Age')\n",
    "plt.xlim(0,80)\n",
    "plt.show()"
   ]
  },
  {
   "cell_type": "code",
   "execution_count": 21,
   "id": "accomplished-string",
   "metadata": {
    "execution": {
     "iopub.execute_input": "2021-05-20T08:04:21.074579Z",
     "iopub.status.busy": "2021-05-20T08:04:21.073956Z",
     "iopub.status.idle": "2021-05-20T08:04:21.090020Z",
     "shell.execute_reply": "2021-05-20T08:04:21.089376Z",
     "shell.execute_reply.started": "2021-05-20T08:00:50.310235Z"
    },
    "papermill": {
     "duration": 0.083256,
     "end_time": "2021-05-20T08:04:21.090165",
     "exception": false,
     "start_time": "2021-05-20T08:04:21.006909",
     "status": "completed"
    },
    "tags": []
   },
   "outputs": [
    {
     "data": {
      "text/html": [
       "<div>\n",
       "<style scoped>\n",
       "    .dataframe tbody tr th:only-of-type {\n",
       "        vertical-align: middle;\n",
       "    }\n",
       "\n",
       "    .dataframe tbody tr th {\n",
       "        vertical-align: top;\n",
       "    }\n",
       "\n",
       "    .dataframe thead th {\n",
       "        text-align: right;\n",
       "    }\n",
       "</style>\n",
       "<table border=\"1\" class=\"dataframe\">\n",
       "  <thead>\n",
       "    <tr style=\"text-align: right;\">\n",
       "      <th></th>\n",
       "      <th>Name</th>\n",
       "      <th>Age</th>\n",
       "      <th>SibSp</th>\n",
       "      <th>Parch</th>\n",
       "      <th>Ticket</th>\n",
       "      <th>Fare</th>\n",
       "      <th>Cabin</th>\n",
       "      <th>Embarked</th>\n",
       "      <th>Pclass_1</th>\n",
       "      <th>Pclass_2</th>\n",
       "      <th>Pclass_3</th>\n",
       "      <th>Sex_male</th>\n",
       "    </tr>\n",
       "  </thead>\n",
       "  <tbody>\n",
       "    <tr>\n",
       "      <th>0</th>\n",
       "      <td>Kelly, Mr. James</td>\n",
       "      <td>34.5</td>\n",
       "      <td>0</td>\n",
       "      <td>0</td>\n",
       "      <td>330911</td>\n",
       "      <td>7.8292</td>\n",
       "      <td>NaN</td>\n",
       "      <td>Q</td>\n",
       "      <td>0</td>\n",
       "      <td>0</td>\n",
       "      <td>1</td>\n",
       "      <td>1</td>\n",
       "    </tr>\n",
       "    <tr>\n",
       "      <th>1</th>\n",
       "      <td>Wilkes, Mrs. James (Ellen Needs)</td>\n",
       "      <td>47.0</td>\n",
       "      <td>1</td>\n",
       "      <td>0</td>\n",
       "      <td>363272</td>\n",
       "      <td>7.0000</td>\n",
       "      <td>NaN</td>\n",
       "      <td>S</td>\n",
       "      <td>0</td>\n",
       "      <td>0</td>\n",
       "      <td>1</td>\n",
       "      <td>0</td>\n",
       "    </tr>\n",
       "    <tr>\n",
       "      <th>2</th>\n",
       "      <td>Myles, Mr. Thomas Francis</td>\n",
       "      <td>62.0</td>\n",
       "      <td>0</td>\n",
       "      <td>0</td>\n",
       "      <td>240276</td>\n",
       "      <td>9.6875</td>\n",
       "      <td>NaN</td>\n",
       "      <td>Q</td>\n",
       "      <td>0</td>\n",
       "      <td>1</td>\n",
       "      <td>0</td>\n",
       "      <td>1</td>\n",
       "    </tr>\n",
       "    <tr>\n",
       "      <th>3</th>\n",
       "      <td>Wirz, Mr. Albert</td>\n",
       "      <td>27.0</td>\n",
       "      <td>0</td>\n",
       "      <td>0</td>\n",
       "      <td>315154</td>\n",
       "      <td>8.6625</td>\n",
       "      <td>NaN</td>\n",
       "      <td>S</td>\n",
       "      <td>0</td>\n",
       "      <td>0</td>\n",
       "      <td>1</td>\n",
       "      <td>1</td>\n",
       "    </tr>\n",
       "    <tr>\n",
       "      <th>4</th>\n",
       "      <td>Hirvonen, Mrs. Alexander (Helga E Lindqvist)</td>\n",
       "      <td>22.0</td>\n",
       "      <td>1</td>\n",
       "      <td>1</td>\n",
       "      <td>3101298</td>\n",
       "      <td>12.2875</td>\n",
       "      <td>NaN</td>\n",
       "      <td>S</td>\n",
       "      <td>0</td>\n",
       "      <td>0</td>\n",
       "      <td>1</td>\n",
       "      <td>0</td>\n",
       "    </tr>\n",
       "  </tbody>\n",
       "</table>\n",
       "</div>"
      ],
      "text/plain": [
       "                                           Name   Age  SibSp  Parch   Ticket  \\\n",
       "0                              Kelly, Mr. James  34.5      0      0   330911   \n",
       "1              Wilkes, Mrs. James (Ellen Needs)  47.0      1      0   363272   \n",
       "2                     Myles, Mr. Thomas Francis  62.0      0      0   240276   \n",
       "3                              Wirz, Mr. Albert  27.0      0      0   315154   \n",
       "4  Hirvonen, Mrs. Alexander (Helga E Lindqvist)  22.0      1      1  3101298   \n",
       "\n",
       "      Fare Cabin Embarked  Pclass_1  Pclass_2  Pclass_3  Sex_male  \n",
       "0   7.8292   NaN        Q         0         0         1         1  \n",
       "1   7.0000   NaN        S         0         0         1         0  \n",
       "2   9.6875   NaN        Q         0         1         0         1  \n",
       "3   8.6625   NaN        S         0         0         1         1  \n",
       "4  12.2875   NaN        S         0         0         1         0  "
      ]
     },
     "execution_count": 21,
     "metadata": {},
     "output_type": "execute_result"
    }
   ],
   "source": [
    "# use median age to fill Nan in test_data\n",
    "test_data[\"Age\"].fillna(train_df[\"Age\"].median(skipna=True), inplace=True)\n",
    "test_data.head()"
   ]
  },
  {
   "cell_type": "code",
   "execution_count": 22,
   "id": "racial-education",
   "metadata": {
    "execution": {
     "iopub.execute_input": "2021-05-20T08:04:21.223883Z",
     "iopub.status.busy": "2021-05-20T08:04:21.223237Z",
     "iopub.status.idle": "2021-05-20T08:04:21.226244Z",
     "shell.execute_reply": "2021-05-20T08:04:21.225687Z",
     "shell.execute_reply.started": "2021-05-20T08:00:50.328754Z"
    },
    "papermill": {
     "duration": 0.073673,
     "end_time": "2021-05-20T08:04:21.226379",
     "exception": false,
     "start_time": "2021-05-20T08:04:21.152706",
     "status": "completed"
    },
    "tags": []
   },
   "outputs": [],
   "source": [
    "train_data['IsMinor']=np.where(train_data['Age']<=16, 1, 0)\n",
    "test_data['IsMinor']=np.where(test_data['Age']<=16, 1, 0)"
   ]
  },
  {
   "cell_type": "markdown",
   "id": "talented-stick",
   "metadata": {
    "papermill": {
     "duration": 0.063646,
     "end_time": "2021-05-20T08:04:21.354310",
     "exception": false,
     "start_time": "2021-05-20T08:04:21.290664",
     "status": "completed"
    },
    "tags": []
   },
   "source": [
    "<a id=\"t2.4\"></a>\n",
    "## 2.4 Number of Family"
   ]
  },
  {
   "cell_type": "code",
   "execution_count": 23,
   "id": "applied-weight",
   "metadata": {
    "execution": {
     "iopub.execute_input": "2021-05-20T08:04:21.483855Z",
     "iopub.status.busy": "2021-05-20T08:04:21.483224Z",
     "iopub.status.idle": "2021-05-20T08:04:21.901121Z",
     "shell.execute_reply": "2021-05-20T08:04:21.901611Z",
     "shell.execute_reply.started": "2021-05-20T08:00:50.342968Z"
    },
    "papermill": {
     "duration": 0.483495,
     "end_time": "2021-05-20T08:04:21.901790",
     "exception": false,
     "start_time": "2021-05-20T08:04:21.418295",
     "status": "completed"
    },
    "tags": []
   },
   "outputs": [
    {
     "data": {
      "image/png": "[encoded data removed]",
      "text/plain": [
       "<Figure size 432x288 with 1 Axes>"
      ]
     },
     "metadata": {},
     "output_type": "display_data"
    }
   ],
   "source": [
    "sns.barplot('SibSp', 'Survived', data=train_data)\n",
    "plt.show()"
   ]
  },
  {
   "cell_type": "code",
   "execution_count": 24,
   "id": "supported-corpus",
   "metadata": {
    "execution": {
     "iopub.execute_input": "2021-05-20T08:04:22.033790Z",
     "iopub.status.busy": "2021-05-20T08:04:22.033139Z",
     "iopub.status.idle": "2021-05-20T08:04:22.418519Z",
     "shell.execute_reply": "2021-05-20T08:04:22.419057Z",
     "shell.execute_reply.started": "2021-05-20T08:00:50.757400Z"
    },
    "papermill": {
     "duration": 0.453107,
     "end_time": "2021-05-20T08:04:22.419224",
     "exception": false,
     "start_time": "2021-05-20T08:04:21.966117",
     "status": "completed"
    },
    "tags": []
   },
   "outputs": [
    {
     "data": {
      "image/png": "[encoded data removed]",
      "text/plain": [
       "<Figure size 432x288 with 1 Axes>"
      ]
     },
     "metadata": {},
     "output_type": "display_data"
    }
   ],
   "source": [
    "sns.barplot('Parch', 'Survived', data=train_data)\n",
    "plt.show()"
   ]
  },
  {
   "cell_type": "markdown",
   "id": "dress-recommendation",
   "metadata": {
    "papermill": {
     "duration": 0.062919,
     "end_time": "2021-05-20T08:04:22.545738",
     "exception": false,
     "start_time": "2021-05-20T08:04:22.482819",
     "status": "completed"
    },
    "tags": []
   },
   "source": [
    "According to the Kaggle data dictionary, both SibSp and Parch relate to traveling with family."
   ]
  },
  {
   "cell_type": "code",
   "execution_count": 25,
   "id": "requested-supply",
   "metadata": {
    "execution": {
     "iopub.execute_input": "2021-05-20T08:04:22.675957Z",
     "iopub.status.busy": "2021-05-20T08:04:22.675296Z",
     "iopub.status.idle": "2021-05-20T08:04:23.177314Z",
     "shell.execute_reply": "2021-05-20T08:04:23.177793Z",
     "shell.execute_reply.started": "2021-05-20T08:00:51.136235Z"
    },
    "papermill": {
     "duration": 0.568653,
     "end_time": "2021-05-20T08:04:23.177972",
     "exception": false,
     "start_time": "2021-05-20T08:04:22.609319",
     "status": "completed"
    },
    "tags": []
   },
   "outputs": [
    {
     "data": {
      "image/png": "[encoded data removed]",
      "text/plain": [
       "<Figure size 432x288 with 1 Axes>"
      ]
     },
     "metadata": {},
     "output_type": "display_data"
    }
   ],
   "source": [
    "train_data['FamilyMem']=train_data[\"SibSp\"]+train_data[\"Parch\"]\n",
    "sns.barplot('FamilyMem', 'Survived', data=train_data)\n",
    "plt.show()"
   ]
  },
  {
   "cell_type": "code",
   "execution_count": 26,
   "id": "royal-summit",
   "metadata": {
    "execution": {
     "iopub.execute_input": "2021-05-20T08:04:23.310248Z",
     "iopub.status.busy": "2021-05-20T08:04:23.309634Z",
     "iopub.status.idle": "2021-05-20T08:04:23.333739Z",
     "shell.execute_reply": "2021-05-20T08:04:23.334179Z",
     "shell.execute_reply.started": "2021-05-20T08:00:51.623650Z"
    },
    "papermill": {
     "duration": 0.091878,
     "end_time": "2021-05-20T08:04:23.334346",
     "exception": false,
     "start_time": "2021-05-20T08:04:23.242468",
     "status": "completed"
    },
    "tags": []
   },
   "outputs": [
    {
     "data": {
      "text/html": [
       "<div>\n",
       "<style scoped>\n",
       "    .dataframe tbody tr th:only-of-type {\n",
       "        vertical-align: middle;\n",
       "    }\n",
       "\n",
       "    .dataframe tbody tr th {\n",
       "        vertical-align: top;\n",
       "    }\n",
       "\n",
       "    .dataframe thead th {\n",
       "        text-align: right;\n",
       "    }\n",
       "</style>\n",
       "<table border=\"1\" class=\"dataframe\">\n",
       "  <thead>\n",
       "    <tr style=\"text-align: right;\">\n",
       "      <th></th>\n",
       "      <th>Survived</th>\n",
       "      <th>Name</th>\n",
       "      <th>Age</th>\n",
       "      <th>Ticket</th>\n",
       "      <th>Fare</th>\n",
       "      <th>Cabin</th>\n",
       "      <th>Embarked</th>\n",
       "      <th>Pclass_1</th>\n",
       "      <th>Pclass_2</th>\n",
       "      <th>Pclass_3</th>\n",
       "      <th>Sex_male</th>\n",
       "      <th>IsMinor</th>\n",
       "      <th>FamilyMem</th>\n",
       "      <th>TravelAlone</th>\n",
       "      <th>SmallFam</th>\n",
       "      <th>LargeFam</th>\n",
       "    </tr>\n",
       "  </thead>\n",
       "  <tbody>\n",
       "    <tr>\n",
       "      <th>0</th>\n",
       "      <td>0</td>\n",
       "      <td>Braund, Mr. Owen Harris</td>\n",
       "      <td>22.0</td>\n",
       "      <td>A/5 21171</td>\n",
       "      <td>7.2500</td>\n",
       "      <td>NaN</td>\n",
       "      <td>S</td>\n",
       "      <td>0</td>\n",
       "      <td>0</td>\n",
       "      <td>1</td>\n",
       "      <td>1</td>\n",
       "      <td>0</td>\n",
       "      <td>1</td>\n",
       "      <td>0</td>\n",
       "      <td>1</td>\n",
       "      <td>0</td>\n",
       "    </tr>\n",
       "    <tr>\n",
       "      <th>1</th>\n",
       "      <td>1</td>\n",
       "      <td>Cumings, Mrs. John Bradley (Florence Briggs Th...</td>\n",
       "      <td>38.0</td>\n",
       "      <td>PC 17599</td>\n",
       "      <td>71.2833</td>\n",
       "      <td>C85</td>\n",
       "      <td>C</td>\n",
       "      <td>1</td>\n",
       "      <td>0</td>\n",
       "      <td>0</td>\n",
       "      <td>0</td>\n",
       "      <td>0</td>\n",
       "      <td>1</td>\n",
       "      <td>0</td>\n",
       "      <td>1</td>\n",
       "      <td>0</td>\n",
       "    </tr>\n",
       "    <tr>\n",
       "      <th>2</th>\n",
       "      <td>1</td>\n",
       "      <td>Heikkinen, Miss. Laina</td>\n",
       "      <td>26.0</td>\n",
       "      <td>STON/O2. 3101282</td>\n",
       "      <td>7.9250</td>\n",
       "      <td>NaN</td>\n",
       "      <td>S</td>\n",
       "      <td>0</td>\n",
       "      <td>0</td>\n",
       "      <td>1</td>\n",
       "      <td>0</td>\n",
       "      <td>0</td>\n",
       "      <td>0</td>\n",
       "      <td>1</td>\n",
       "      <td>0</td>\n",
       "      <td>0</td>\n",
       "    </tr>\n",
       "    <tr>\n",
       "      <th>3</th>\n",
       "      <td>1</td>\n",
       "      <td>Futrelle, Mrs. Jacques Heath (Lily May Peel)</td>\n",
       "      <td>35.0</td>\n",
       "      <td>113803</td>\n",
       "      <td>53.1000</td>\n",
       "      <td>C123</td>\n",
       "      <td>S</td>\n",
       "      <td>1</td>\n",
       "      <td>0</td>\n",
       "      <td>0</td>\n",
       "      <td>0</td>\n",
       "      <td>0</td>\n",
       "      <td>1</td>\n",
       "      <td>0</td>\n",
       "      <td>1</td>\n",
       "      <td>0</td>\n",
       "    </tr>\n",
       "    <tr>\n",
       "      <th>4</th>\n",
       "      <td>0</td>\n",
       "      <td>Allen, Mr. William Henry</td>\n",
       "      <td>35.0</td>\n",
       "      <td>373450</td>\n",
       "      <td>8.0500</td>\n",
       "      <td>NaN</td>\n",
       "      <td>S</td>\n",
       "      <td>0</td>\n",
       "      <td>0</td>\n",
       "      <td>1</td>\n",
       "      <td>1</td>\n",
       "      <td>0</td>\n",
       "      <td>0</td>\n",
       "      <td>1</td>\n",
       "      <td>0</td>\n",
       "      <td>0</td>\n",
       "    </tr>\n",
       "  </tbody>\n",
       "</table>\n",
       "</div>"
      ],
      "text/plain": [
       "   Survived                                               Name   Age  \\\n",
       "0         0                            Braund, Mr. Owen Harris  22.0   \n",
       "1         1  Cumings, Mrs. John Bradley (Florence Briggs Th...  38.0   \n",
       "2         1                             Heikkinen, Miss. Laina  26.0   \n",
       "3         1       Futrelle, Mrs. Jacques Heath (Lily May Peel)  35.0   \n",
       "4         0                           Allen, Mr. William Henry  35.0   \n",
       "\n",
       "             Ticket     Fare Cabin Embarked  Pclass_1  Pclass_2  Pclass_3  \\\n",
       "0         A/5 21171   7.2500   NaN        S         0         0         1   \n",
       "1          PC 17599  71.2833   C85        C         1         0         0   \n",
       "2  STON/O2. 3101282   7.9250   NaN        S         0         0         1   \n",
       "3            113803  53.1000  C123        S         1         0         0   \n",
       "4            373450   8.0500   NaN        S         0         0         1   \n",
       "\n",
       "   Sex_male  IsMinor  FamilyMem  TravelAlone  SmallFam  LargeFam  \n",
       "0         1        0          1            0         1         0  \n",
       "1         0        0          1            0         1         0  \n",
       "2         0        0          0            1         0         0  \n",
       "3         0        0          1            0         1         0  \n",
       "4         1        0          0            1         0         0  "
      ]
     },
     "execution_count": 26,
     "metadata": {},
     "output_type": "execute_result"
    }
   ],
   "source": [
    "## Create categorical variable for 'TravelAlone', 'SmallFam' and 'LargeFam' in train_data\n",
    "train_data['TravelAlone']=np.where(train_data['FamilyMem']==0, 1, 0)\n",
    "train_data['SmallFam']=np.where(((train_data['FamilyMem']>0) & (train_data['FamilyMem']<=3)), 1, 0)\n",
    "train_data['LargeFam']=np.where((train_data['FamilyMem']>3), 1, 0)\n",
    "train_data.drop('SibSp', axis=1, inplace=True)\n",
    "train_data.drop('Parch', axis=1, inplace=True)\n",
    "train_data.head()"
   ]
  },
  {
   "cell_type": "code",
   "execution_count": 27,
   "id": "english-compilation",
   "metadata": {
    "execution": {
     "iopub.execute_input": "2021-05-20T08:04:23.467622Z",
     "iopub.status.busy": "2021-05-20T08:04:23.466955Z",
     "iopub.status.idle": "2021-05-20T08:04:23.493396Z",
     "shell.execute_reply": "2021-05-20T08:04:23.492871Z",
     "shell.execute_reply.started": "2021-05-20T08:00:51.652181Z"
    },
    "papermill": {
     "duration": 0.094307,
     "end_time": "2021-05-20T08:04:23.493530",
     "exception": false,
     "start_time": "2021-05-20T08:04:23.399223",
     "status": "completed"
    },
    "tags": []
   },
   "outputs": [
    {
     "data": {
      "text/html": [
       "<div>\n",
       "<style scoped>\n",
       "    .dataframe tbody tr th:only-of-type {\n",
       "        vertical-align: middle;\n",
       "    }\n",
       "\n",
       "    .dataframe tbody tr th {\n",
       "        vertical-align: top;\n",
       "    }\n",
       "\n",
       "    .dataframe thead th {\n",
       "        text-align: right;\n",
       "    }\n",
       "</style>\n",
       "<table border=\"1\" class=\"dataframe\">\n",
       "  <thead>\n",
       "    <tr style=\"text-align: right;\">\n",
       "      <th></th>\n",
       "      <th>Name</th>\n",
       "      <th>Age</th>\n",
       "      <th>Ticket</th>\n",
       "      <th>Fare</th>\n",
       "      <th>Cabin</th>\n",
       "      <th>Embarked</th>\n",
       "      <th>Pclass_1</th>\n",
       "      <th>Pclass_2</th>\n",
       "      <th>Pclass_3</th>\n",
       "      <th>Sex_male</th>\n",
       "      <th>IsMinor</th>\n",
       "      <th>FamilyMem</th>\n",
       "      <th>TravelAlone</th>\n",
       "      <th>SmallFam</th>\n",
       "      <th>LargeFam</th>\n",
       "    </tr>\n",
       "  </thead>\n",
       "  <tbody>\n",
       "    <tr>\n",
       "      <th>0</th>\n",
       "      <td>Kelly, Mr. James</td>\n",
       "      <td>34.5</td>\n",
       "      <td>330911</td>\n",
       "      <td>7.8292</td>\n",
       "      <td>NaN</td>\n",
       "      <td>Q</td>\n",
       "      <td>0</td>\n",
       "      <td>0</td>\n",
       "      <td>1</td>\n",
       "      <td>1</td>\n",
       "      <td>0</td>\n",
       "      <td>0</td>\n",
       "      <td>1</td>\n",
       "      <td>0</td>\n",
       "      <td>0</td>\n",
       "    </tr>\n",
       "    <tr>\n",
       "      <th>1</th>\n",
       "      <td>Wilkes, Mrs. James (Ellen Needs)</td>\n",
       "      <td>47.0</td>\n",
       "      <td>363272</td>\n",
       "      <td>7.0000</td>\n",
       "      <td>NaN</td>\n",
       "      <td>S</td>\n",
       "      <td>0</td>\n",
       "      <td>0</td>\n",
       "      <td>1</td>\n",
       "      <td>0</td>\n",
       "      <td>0</td>\n",
       "      <td>1</td>\n",
       "      <td>0</td>\n",
       "      <td>1</td>\n",
       "      <td>0</td>\n",
       "    </tr>\n",
       "    <tr>\n",
       "      <th>2</th>\n",
       "      <td>Myles, Mr. Thomas Francis</td>\n",
       "      <td>62.0</td>\n",
       "      <td>240276</td>\n",
       "      <td>9.6875</td>\n",
       "      <td>NaN</td>\n",
       "      <td>Q</td>\n",
       "      <td>0</td>\n",
       "      <td>1</td>\n",
       "      <td>0</td>\n",
       "      <td>1</td>\n",
       "      <td>0</td>\n",
       "      <td>0</td>\n",
       "      <td>1</td>\n",
       "      <td>0</td>\n",
       "      <td>0</td>\n",
       "    </tr>\n",
       "    <tr>\n",
       "      <th>3</th>\n",
       "      <td>Wirz, Mr. Albert</td>\n",
       "      <td>27.0</td>\n",
       "      <td>315154</td>\n",
       "      <td>8.6625</td>\n",
       "      <td>NaN</td>\n",
       "      <td>S</td>\n",
       "      <td>0</td>\n",
       "      <td>0</td>\n",
       "      <td>1</td>\n",
       "      <td>1</td>\n",
       "      <td>0</td>\n",
       "      <td>0</td>\n",
       "      <td>1</td>\n",
       "      <td>0</td>\n",
       "      <td>0</td>\n",
       "    </tr>\n",
       "    <tr>\n",
       "      <th>4</th>\n",
       "      <td>Hirvonen, Mrs. Alexander (Helga E Lindqvist)</td>\n",
       "      <td>22.0</td>\n",
       "      <td>3101298</td>\n",
       "      <td>12.2875</td>\n",
       "      <td>NaN</td>\n",
       "      <td>S</td>\n",
       "      <td>0</td>\n",
       "      <td>0</td>\n",
       "      <td>1</td>\n",
       "      <td>0</td>\n",
       "      <td>0</td>\n",
       "      <td>2</td>\n",
       "      <td>0</td>\n",
       "      <td>1</td>\n",
       "      <td>0</td>\n",
       "    </tr>\n",
       "  </tbody>\n",
       "</table>\n",
       "</div>"
      ],
      "text/plain": [
       "                                           Name   Age   Ticket     Fare Cabin  \\\n",
       "0                              Kelly, Mr. James  34.5   330911   7.8292   NaN   \n",
       "1              Wilkes, Mrs. James (Ellen Needs)  47.0   363272   7.0000   NaN   \n",
       "2                     Myles, Mr. Thomas Francis  62.0   240276   9.6875   NaN   \n",
       "3                              Wirz, Mr. Albert  27.0   315154   8.6625   NaN   \n",
       "4  Hirvonen, Mrs. Alexander (Helga E Lindqvist)  22.0  3101298  12.2875   NaN   \n",
       "\n",
       "  Embarked  Pclass_1  Pclass_2  Pclass_3  Sex_male  IsMinor  FamilyMem  \\\n",
       "0        Q         0         0         1         1        0          0   \n",
       "1        S         0         0         1         0        0          1   \n",
       "2        Q         0         1         0         1        0          0   \n",
       "3        S         0         0         1         1        0          0   \n",
       "4        S         0         0         1         0        0          2   \n",
       "\n",
       "   TravelAlone  SmallFam  LargeFam  \n",
       "0            1         0         0  \n",
       "1            0         1         0  \n",
       "2            1         0         0  \n",
       "3            1         0         0  \n",
       "4            0         1         0  "
      ]
     },
     "execution_count": 27,
     "metadata": {},
     "output_type": "execute_result"
    }
   ],
   "source": [
    "## Create categorical variable for 'TravelAlone', 'SmallFam' and 'LargeFam' in train_data\n",
    "test_data['FamilyMem']=test_data[\"SibSp\"]+test_data[\"Parch\"]\n",
    "test_data['TravelAlone']=np.where(test_data['FamilyMem']==0, 1, 0)\n",
    "test_data['SmallFam']=np.where(((test_data['FamilyMem']>0) & (test_data['FamilyMem']<=3)), 1, 0)\n",
    "test_data['LargeFam']=np.where((test_data['FamilyMem']>3), 1, 0)\n",
    "test_data.drop('SibSp', axis=1, inplace=True)\n",
    "test_data.drop('Parch', axis=1, inplace=True)\n",
    "test_data.head()"
   ]
  },
  {
   "cell_type": "markdown",
   "id": "purple-coast",
   "metadata": {
    "papermill": {
     "duration": 0.065208,
     "end_time": "2021-05-20T08:04:23.624367",
     "exception": false,
     "start_time": "2021-05-20T08:04:23.559159",
     "status": "completed"
    },
    "tags": []
   },
   "source": [
    "<a id=\"t2.5\"></a>\n",
    "## 2.5 Fare"
   ]
  },
  {
   "cell_type": "code",
   "execution_count": 28,
   "id": "casual-orlando",
   "metadata": {
    "execution": {
     "iopub.execute_input": "2021-05-20T08:04:23.762348Z",
     "iopub.status.busy": "2021-05-20T08:04:23.761182Z",
     "iopub.status.idle": "2021-05-20T08:04:23.766763Z",
     "shell.execute_reply": "2021-05-20T08:04:23.766199Z",
     "shell.execute_reply.started": "2021-05-20T08:00:51.682440Z"
    },
    "papermill": {
     "duration": 0.075875,
     "end_time": "2021-05-20T08:04:23.766918",
     "exception": false,
     "start_time": "2021-05-20T08:04:23.691043",
     "status": "completed"
    },
    "tags": []
   },
   "outputs": [],
   "source": [
    "# use median in train_data to fill Nan for 'Fare' in test_data\n",
    "test_data[\"Fare\"].fillna(train_df[\"Fare\"].median(skipna=True), inplace=True)"
   ]
  },
  {
   "cell_type": "code",
   "execution_count": 29,
   "id": "square-scout",
   "metadata": {
    "execution": {
     "iopub.execute_input": "2021-05-20T08:04:23.925089Z",
     "iopub.status.busy": "2021-05-20T08:04:23.924434Z",
     "iopub.status.idle": "2021-05-20T08:04:24.196808Z",
     "shell.execute_reply": "2021-05-20T08:04:24.196168Z",
     "shell.execute_reply.started": "2021-05-20T08:00:51.697213Z"
    },
    "papermill": {
     "duration": 0.363943,
     "end_time": "2021-05-20T08:04:24.196947",
     "exception": false,
     "start_time": "2021-05-20T08:04:23.833004",
     "status": "completed"
    },
    "tags": []
   },
   "outputs": [
    {
     "data": {
      "image/png": "[encoded data removed]",
      "text/plain": [
       "<Figure size 1080x576 with 1 Axes>"
      ]
     },
     "metadata": {},
     "output_type": "display_data"
    }
   ],
   "source": [
    "plt.figure(figsize=(15,8))\n",
    "ax = sns.kdeplot(train_data[\"Fare\"][train_data.Survived == 1], color=\"darkturquoise\", shade=True)\n",
    "sns.kdeplot(train_data[\"Fare\"][train_data.Survived == 0], color=\"lightcoral\", shade=True)\n",
    "plt.legend(['Survived', 'Died'])\n",
    "plt.title('Density Plot of Fare for Surviving Population and Deceased Population')\n",
    "ax.set(xlabel='Fare')\n",
    "plt.xlim(-20,200)\n",
    "plt.show()"
   ]
  },
  {
   "cell_type": "markdown",
   "id": "baking-contrary",
   "metadata": {
    "papermill": {
     "duration": 0.066935,
     "end_time": "2021-05-20T08:04:24.331892",
     "exception": false,
     "start_time": "2021-05-20T08:04:24.264957",
     "status": "completed"
    },
    "tags": []
   },
   "source": [
    "When `Fare` is larger than 30, the surivial rate increase greatly. Maybe it is highly related to the passenger class."
   ]
  },
  {
   "cell_type": "markdown",
   "id": "emerging-representation",
   "metadata": {
    "papermill": {
     "duration": 0.06669,
     "end_time": "2021-05-20T08:04:24.467307",
     "exception": false,
     "start_time": "2021-05-20T08:04:24.400617",
     "status": "completed"
    },
    "tags": []
   },
   "source": [
    "<a id=\"t2.6\"></a>\n",
    "## 2.6 Cabin"
   ]
  },
  {
   "cell_type": "code",
   "execution_count": 30,
   "id": "legendary-montreal",
   "metadata": {
    "execution": {
     "iopub.execute_input": "2021-05-20T08:04:24.620812Z",
     "iopub.status.busy": "2021-05-20T08:04:24.619880Z",
     "iopub.status.idle": "2021-05-20T08:04:24.623791Z",
     "shell.execute_reply": "2021-05-20T08:04:24.624230Z",
     "shell.execute_reply.started": "2021-05-20T08:00:51.988882Z"
    },
    "papermill": {
     "duration": 0.089082,
     "end_time": "2021-05-20T08:04:24.624398",
     "exception": false,
     "start_time": "2021-05-20T08:04:24.535316",
     "status": "completed"
    },
    "tags": []
   },
   "outputs": [
    {
     "data": {
      "text/html": [
       "<div>\n",
       "<style scoped>\n",
       "    .dataframe tbody tr th:only-of-type {\n",
       "        vertical-align: middle;\n",
       "    }\n",
       "\n",
       "    .dataframe tbody tr th {\n",
       "        vertical-align: top;\n",
       "    }\n",
       "\n",
       "    .dataframe thead th {\n",
       "        text-align: right;\n",
       "    }\n",
       "</style>\n",
       "<table border=\"1\" class=\"dataframe\">\n",
       "  <thead>\n",
       "    <tr style=\"text-align: right;\">\n",
       "      <th></th>\n",
       "      <th>Survived</th>\n",
       "      <th>Name</th>\n",
       "      <th>Age</th>\n",
       "      <th>Ticket</th>\n",
       "      <th>Fare</th>\n",
       "      <th>Embarked</th>\n",
       "      <th>Pclass_1</th>\n",
       "      <th>Pclass_2</th>\n",
       "      <th>Pclass_3</th>\n",
       "      <th>Sex_male</th>\n",
       "      <th>IsMinor</th>\n",
       "      <th>FamilyMem</th>\n",
       "      <th>TravelAlone</th>\n",
       "      <th>SmallFam</th>\n",
       "      <th>LargeFam</th>\n",
       "    </tr>\n",
       "  </thead>\n",
       "  <tbody>\n",
       "    <tr>\n",
       "      <th>0</th>\n",
       "      <td>0</td>\n",
       "      <td>Braund, Mr. Owen Harris</td>\n",
       "      <td>22.0</td>\n",
       "      <td>A/5 21171</td>\n",
       "      <td>7.2500</td>\n",
       "      <td>S</td>\n",
       "      <td>0</td>\n",
       "      <td>0</td>\n",
       "      <td>1</td>\n",
       "      <td>1</td>\n",
       "      <td>0</td>\n",
       "      <td>1</td>\n",
       "      <td>0</td>\n",
       "      <td>1</td>\n",
       "      <td>0</td>\n",
       "    </tr>\n",
       "    <tr>\n",
       "      <th>1</th>\n",
       "      <td>1</td>\n",
       "      <td>Cumings, Mrs. John Bradley (Florence Briggs Th...</td>\n",
       "      <td>38.0</td>\n",
       "      <td>PC 17599</td>\n",
       "      <td>71.2833</td>\n",
       "      <td>C</td>\n",
       "      <td>1</td>\n",
       "      <td>0</td>\n",
       "      <td>0</td>\n",
       "      <td>0</td>\n",
       "      <td>0</td>\n",
       "      <td>1</td>\n",
       "      <td>0</td>\n",
       "      <td>1</td>\n",
       "      <td>0</td>\n",
       "    </tr>\n",
       "    <tr>\n",
       "      <th>2</th>\n",
       "      <td>1</td>\n",
       "      <td>Heikkinen, Miss. Laina</td>\n",
       "      <td>26.0</td>\n",
       "      <td>STON/O2. 3101282</td>\n",
       "      <td>7.9250</td>\n",
       "      <td>S</td>\n",
       "      <td>0</td>\n",
       "      <td>0</td>\n",
       "      <td>1</td>\n",
       "      <td>0</td>\n",
       "      <td>0</td>\n",
       "      <td>0</td>\n",
       "      <td>1</td>\n",
       "      <td>0</td>\n",
       "      <td>0</td>\n",
       "    </tr>\n",
       "    <tr>\n",
       "      <th>3</th>\n",
       "      <td>1</td>\n",
       "      <td>Futrelle, Mrs. Jacques Heath (Lily May Peel)</td>\n",
       "      <td>35.0</td>\n",
       "      <td>113803</td>\n",
       "      <td>53.1000</td>\n",
       "      <td>S</td>\n",
       "      <td>1</td>\n",
       "      <td>0</td>\n",
       "      <td>0</td>\n",
       "      <td>0</td>\n",
       "      <td>0</td>\n",
       "      <td>1</td>\n",
       "      <td>0</td>\n",
       "      <td>1</td>\n",
       "      <td>0</td>\n",
       "    </tr>\n",
       "    <tr>\n",
       "      <th>4</th>\n",
       "      <td>0</td>\n",
       "      <td>Allen, Mr. William Henry</td>\n",
       "      <td>35.0</td>\n",
       "      <td>373450</td>\n",
       "      <td>8.0500</td>\n",
       "      <td>S</td>\n",
       "      <td>0</td>\n",
       "      <td>0</td>\n",
       "      <td>1</td>\n",
       "      <td>1</td>\n",
       "      <td>0</td>\n",
       "      <td>0</td>\n",
       "      <td>1</td>\n",
       "      <td>0</td>\n",
       "      <td>0</td>\n",
       "    </tr>\n",
       "  </tbody>\n",
       "</table>\n",
       "</div>"
      ],
      "text/plain": [
       "   Survived                                               Name   Age  \\\n",
       "0         0                            Braund, Mr. Owen Harris  22.0   \n",
       "1         1  Cumings, Mrs. John Bradley (Florence Briggs Th...  38.0   \n",
       "2         1                             Heikkinen, Miss. Laina  26.0   \n",
       "3         1       Futrelle, Mrs. Jacques Heath (Lily May Peel)  35.0   \n",
       "4         0                           Allen, Mr. William Henry  35.0   \n",
       "\n",
       "             Ticket     Fare Embarked  Pclass_1  Pclass_2  Pclass_3  Sex_male  \\\n",
       "0         A/5 21171   7.2500        S         0         0         1         1   \n",
       "1          PC 17599  71.2833        C         1         0         0         0   \n",
       "2  STON/O2. 3101282   7.9250        S         0         0         1         0   \n",
       "3            113803  53.1000        S         1         0         0         0   \n",
       "4            373450   8.0500        S         0         0         1         1   \n",
       "\n",
       "   IsMinor  FamilyMem  TravelAlone  SmallFam  LargeFam  \n",
       "0        0          1            0         1         0  \n",
       "1        0          1            0         1         0  \n",
       "2        0          0            1         0         0  \n",
       "3        0          1            0         1         0  \n",
       "4        0          0            1         0         0  "
      ]
     },
     "execution_count": 30,
     "metadata": {},
     "output_type": "execute_result"
    }
   ],
   "source": [
    "train_data.drop('Cabin', axis=1, inplace=True)\n",
    "train_data.head()"
   ]
  },
  {
   "cell_type": "code",
   "execution_count": 31,
   "id": "wireless-preference",
   "metadata": {
    "execution": {
     "iopub.execute_input": "2021-05-20T08:04:24.776633Z",
     "iopub.status.busy": "2021-05-20T08:04:24.775985Z",
     "iopub.status.idle": "2021-05-20T08:04:24.780173Z",
     "shell.execute_reply": "2021-05-20T08:04:24.779697Z",
     "shell.execute_reply.started": "2021-05-20T08:00:52.007660Z"
    },
    "papermill": {
     "duration": 0.088283,
     "end_time": "2021-05-20T08:04:24.780308",
     "exception": false,
     "start_time": "2021-05-20T08:04:24.692025",
     "status": "completed"
    },
    "tags": []
   },
   "outputs": [
    {
     "data": {
      "text/html": [
       "<div>\n",
       "<style scoped>\n",
       "    .dataframe tbody tr th:only-of-type {\n",
       "        vertical-align: middle;\n",
       "    }\n",
       "\n",
       "    .dataframe tbody tr th {\n",
       "        vertical-align: top;\n",
       "    }\n",
       "\n",
       "    .dataframe thead th {\n",
       "        text-align: right;\n",
       "    }\n",
       "</style>\n",
       "<table border=\"1\" class=\"dataframe\">\n",
       "  <thead>\n",
       "    <tr style=\"text-align: right;\">\n",
       "      <th></th>\n",
       "      <th>Name</th>\n",
       "      <th>Age</th>\n",
       "      <th>Ticket</th>\n",
       "      <th>Fare</th>\n",
       "      <th>Embarked</th>\n",
       "      <th>Pclass_1</th>\n",
       "      <th>Pclass_2</th>\n",
       "      <th>Pclass_3</th>\n",
       "      <th>Sex_male</th>\n",
       "      <th>IsMinor</th>\n",
       "      <th>FamilyMem</th>\n",
       "      <th>TravelAlone</th>\n",
       "      <th>SmallFam</th>\n",
       "      <th>LargeFam</th>\n",
       "    </tr>\n",
       "  </thead>\n",
       "  <tbody>\n",
       "    <tr>\n",
       "      <th>0</th>\n",
       "      <td>Kelly, Mr. James</td>\n",
       "      <td>34.5</td>\n",
       "      <td>330911</td>\n",
       "      <td>7.8292</td>\n",
       "      <td>Q</td>\n",
       "      <td>0</td>\n",
       "      <td>0</td>\n",
       "      <td>1</td>\n",
       "      <td>1</td>\n",
       "      <td>0</td>\n",
       "      <td>0</td>\n",
       "      <td>1</td>\n",
       "      <td>0</td>\n",
       "      <td>0</td>\n",
       "    </tr>\n",
       "    <tr>\n",
       "      <th>1</th>\n",
       "      <td>Wilkes, Mrs. James (Ellen Needs)</td>\n",
       "      <td>47.0</td>\n",
       "      <td>363272</td>\n",
       "      <td>7.0000</td>\n",
       "      <td>S</td>\n",
       "      <td>0</td>\n",
       "      <td>0</td>\n",
       "      <td>1</td>\n",
       "      <td>0</td>\n",
       "      <td>0</td>\n",
       "      <td>1</td>\n",
       "      <td>0</td>\n",
       "      <td>1</td>\n",
       "      <td>0</td>\n",
       "    </tr>\n",
       "    <tr>\n",
       "      <th>2</th>\n",
       "      <td>Myles, Mr. Thomas Francis</td>\n",
       "      <td>62.0</td>\n",
       "      <td>240276</td>\n",
       "      <td>9.6875</td>\n",
       "      <td>Q</td>\n",
       "      <td>0</td>\n",
       "      <td>1</td>\n",
       "      <td>0</td>\n",
       "      <td>1</td>\n",
       "      <td>0</td>\n",
       "      <td>0</td>\n",
       "      <td>1</td>\n",
       "      <td>0</td>\n",
       "      <td>0</td>\n",
       "    </tr>\n",
       "    <tr>\n",
       "      <th>3</th>\n",
       "      <td>Wirz, Mr. Albert</td>\n",
       "      <td>27.0</td>\n",
       "      <td>315154</td>\n",
       "      <td>8.6625</td>\n",
       "      <td>S</td>\n",
       "      <td>0</td>\n",
       "      <td>0</td>\n",
       "      <td>1</td>\n",
       "      <td>1</td>\n",
       "      <td>0</td>\n",
       "      <td>0</td>\n",
       "      <td>1</td>\n",
       "      <td>0</td>\n",
       "      <td>0</td>\n",
       "    </tr>\n",
       "    <tr>\n",
       "      <th>4</th>\n",
       "      <td>Hirvonen, Mrs. Alexander (Helga E Lindqvist)</td>\n",
       "      <td>22.0</td>\n",
       "      <td>3101298</td>\n",
       "      <td>12.2875</td>\n",
       "      <td>S</td>\n",
       "      <td>0</td>\n",
       "      <td>0</td>\n",
       "      <td>1</td>\n",
       "      <td>0</td>\n",
       "      <td>0</td>\n",
       "      <td>2</td>\n",
       "      <td>0</td>\n",
       "      <td>1</td>\n",
       "      <td>0</td>\n",
       "    </tr>\n",
       "  </tbody>\n",
       "</table>\n",
       "</div>"
      ],
      "text/plain": [
       "                                           Name   Age   Ticket     Fare  \\\n",
       "0                              Kelly, Mr. James  34.5   330911   7.8292   \n",
       "1              Wilkes, Mrs. James (Ellen Needs)  47.0   363272   7.0000   \n",
       "2                     Myles, Mr. Thomas Francis  62.0   240276   9.6875   \n",
       "3                              Wirz, Mr. Albert  27.0   315154   8.6625   \n",
       "4  Hirvonen, Mrs. Alexander (Helga E Lindqvist)  22.0  3101298  12.2875   \n",
       "\n",
       "  Embarked  Pclass_1  Pclass_2  Pclass_3  Sex_male  IsMinor  FamilyMem  \\\n",
       "0        Q         0         0         1         1        0          0   \n",
       "1        S         0         0         1         0        0          1   \n",
       "2        Q         0         1         0         1        0          0   \n",
       "3        S         0         0         1         1        0          0   \n",
       "4        S         0         0         1         0        0          2   \n",
       "\n",
       "   TravelAlone  SmallFam  LargeFam  \n",
       "0            1         0         0  \n",
       "1            0         1         0  \n",
       "2            1         0         0  \n",
       "3            1         0         0  \n",
       "4            0         1         0  "
      ]
     },
     "execution_count": 31,
     "metadata": {},
     "output_type": "execute_result"
    }
   ],
   "source": [
    "test_data.drop('Cabin', axis=1, inplace=True)\n",
    "test_data.head()"
   ]
  },
  {
   "cell_type": "markdown",
   "id": "blond-aggregate",
   "metadata": {
    "papermill": {
     "duration": 0.067542,
     "end_time": "2021-05-20T08:04:24.915789",
     "exception": false,
     "start_time": "2021-05-20T08:04:24.848247",
     "status": "completed"
    },
    "tags": []
   },
   "source": [
    "<a id=\"t2.7\"></a>\n",
    "## 2.7 Embarked"
   ]
  },
  {
   "cell_type": "code",
   "execution_count": 32,
   "id": "fifty-proxy",
   "metadata": {
    "execution": {
     "iopub.execute_input": "2021-05-20T08:04:25.057350Z",
     "iopub.status.busy": "2021-05-20T08:04:25.056743Z",
     "iopub.status.idle": "2021-05-20T08:04:25.059051Z",
     "shell.execute_reply": "2021-05-20T08:04:25.059638Z",
     "shell.execute_reply.started": "2021-05-20T08:00:52.035583Z"
    },
    "papermill": {
     "duration": 0.075822,
     "end_time": "2021-05-20T08:04:25.059812",
     "exception": false,
     "start_time": "2021-05-20T08:04:24.983990",
     "status": "completed"
    },
    "tags": []
   },
   "outputs": [
    {
     "name": "stdout",
     "output_type": "stream",
     "text": [
      "Percent of missing \"Embarked\" records is 0.22%\n"
     ]
    }
   ],
   "source": [
    "# percent of missing \"Embarked\" \n",
    "print('Percent of missing \"Embarked\" records is %.2f%%' %((train_df['Embarked'].isnull().sum()/train_df.shape[0])*100))"
   ]
  },
  {
   "cell_type": "markdown",
   "id": "republican-composer",
   "metadata": {
    "papermill": {
     "duration": 0.068744,
     "end_time": "2021-05-20T08:04:25.198006",
     "exception": false,
     "start_time": "2021-05-20T08:04:25.129262",
     "status": "completed"
    },
    "tags": []
   },
   "source": [
    "There are only 2 (0.22%) missing values for \"Embarked\", so we can just impute with the port where most people boarded."
   ]
  },
  {
   "cell_type": "code",
   "execution_count": 33,
   "id": "sexual-allah",
   "metadata": {
    "execution": {
     "iopub.execute_input": "2021-05-20T08:04:25.338451Z",
     "iopub.status.busy": "2021-05-20T08:04:25.337865Z",
     "iopub.status.idle": "2021-05-20T08:04:25.358918Z",
     "shell.execute_reply": "2021-05-20T08:04:25.358410Z",
     "shell.execute_reply.started": "2021-05-20T08:00:52.046726Z"
    },
    "papermill": {
     "duration": 0.092096,
     "end_time": "2021-05-20T08:04:25.359053",
     "exception": false,
     "start_time": "2021-05-20T08:04:25.266957",
     "status": "completed"
    },
    "tags": []
   },
   "outputs": [
    {
     "data": {
      "text/html": [
       "<div>\n",
       "<style scoped>\n",
       "    .dataframe tbody tr th:only-of-type {\n",
       "        vertical-align: middle;\n",
       "    }\n",
       "\n",
       "    .dataframe tbody tr th {\n",
       "        vertical-align: top;\n",
       "    }\n",
       "\n",
       "    .dataframe thead th {\n",
       "        text-align: right;\n",
       "    }\n",
       "</style>\n",
       "<table border=\"1\" class=\"dataframe\">\n",
       "  <thead>\n",
       "    <tr style=\"text-align: right;\">\n",
       "      <th></th>\n",
       "      <th>Survived</th>\n",
       "      <th>Name</th>\n",
       "      <th>Age</th>\n",
       "      <th>Ticket</th>\n",
       "      <th>Fare</th>\n",
       "      <th>Embarked</th>\n",
       "      <th>Pclass_1</th>\n",
       "      <th>Pclass_2</th>\n",
       "      <th>Pclass_3</th>\n",
       "      <th>Sex_male</th>\n",
       "      <th>IsMinor</th>\n",
       "      <th>FamilyMem</th>\n",
       "      <th>TravelAlone</th>\n",
       "      <th>SmallFam</th>\n",
       "      <th>LargeFam</th>\n",
       "    </tr>\n",
       "  </thead>\n",
       "  <tbody>\n",
       "    <tr>\n",
       "      <th>0</th>\n",
       "      <td>0</td>\n",
       "      <td>Braund, Mr. Owen Harris</td>\n",
       "      <td>22.0</td>\n",
       "      <td>A/5 21171</td>\n",
       "      <td>7.2500</td>\n",
       "      <td>S</td>\n",
       "      <td>0</td>\n",
       "      <td>0</td>\n",
       "      <td>1</td>\n",
       "      <td>1</td>\n",
       "      <td>0</td>\n",
       "      <td>1</td>\n",
       "      <td>0</td>\n",
       "      <td>1</td>\n",
       "      <td>0</td>\n",
       "    </tr>\n",
       "    <tr>\n",
       "      <th>1</th>\n",
       "      <td>1</td>\n",
       "      <td>Cumings, Mrs. John Bradley (Florence Briggs Th...</td>\n",
       "      <td>38.0</td>\n",
       "      <td>PC 17599</td>\n",
       "      <td>71.2833</td>\n",
       "      <td>C</td>\n",
       "      <td>1</td>\n",
       "      <td>0</td>\n",
       "      <td>0</td>\n",
       "      <td>0</td>\n",
       "      <td>0</td>\n",
       "      <td>1</td>\n",
       "      <td>0</td>\n",
       "      <td>1</td>\n",
       "      <td>0</td>\n",
       "    </tr>\n",
       "    <tr>\n",
       "      <th>2</th>\n",
       "      <td>1</td>\n",
       "      <td>Heikkinen, Miss. Laina</td>\n",
       "      <td>26.0</td>\n",
       "      <td>STON/O2. 3101282</td>\n",
       "      <td>7.9250</td>\n",
       "      <td>S</td>\n",
       "      <td>0</td>\n",
       "      <td>0</td>\n",
       "      <td>1</td>\n",
       "      <td>0</td>\n",
       "      <td>0</td>\n",
       "      <td>0</td>\n",
       "      <td>1</td>\n",
       "      <td>0</td>\n",
       "      <td>0</td>\n",
       "    </tr>\n",
       "    <tr>\n",
       "      <th>3</th>\n",
       "      <td>1</td>\n",
       "      <td>Futrelle, Mrs. Jacques Heath (Lily May Peel)</td>\n",
       "      <td>35.0</td>\n",
       "      <td>113803</td>\n",
       "      <td>53.1000</td>\n",
       "      <td>S</td>\n",
       "      <td>1</td>\n",
       "      <td>0</td>\n",
       "      <td>0</td>\n",
       "      <td>0</td>\n",
       "      <td>0</td>\n",
       "      <td>1</td>\n",
       "      <td>0</td>\n",
       "      <td>1</td>\n",
       "      <td>0</td>\n",
       "    </tr>\n",
       "    <tr>\n",
       "      <th>4</th>\n",
       "      <td>0</td>\n",
       "      <td>Allen, Mr. William Henry</td>\n",
       "      <td>35.0</td>\n",
       "      <td>373450</td>\n",
       "      <td>8.0500</td>\n",
       "      <td>S</td>\n",
       "      <td>0</td>\n",
       "      <td>0</td>\n",
       "      <td>1</td>\n",
       "      <td>1</td>\n",
       "      <td>0</td>\n",
       "      <td>0</td>\n",
       "      <td>1</td>\n",
       "      <td>0</td>\n",
       "      <td>0</td>\n",
       "    </tr>\n",
       "  </tbody>\n",
       "</table>\n",
       "</div>"
      ],
      "text/plain": [
       "   Survived                                               Name   Age  \\\n",
       "0         0                            Braund, Mr. Owen Harris  22.0   \n",
       "1         1  Cumings, Mrs. John Bradley (Florence Briggs Th...  38.0   \n",
       "2         1                             Heikkinen, Miss. Laina  26.0   \n",
       "3         1       Futrelle, Mrs. Jacques Heath (Lily May Peel)  35.0   \n",
       "4         0                           Allen, Mr. William Henry  35.0   \n",
       "\n",
       "             Ticket     Fare Embarked  Pclass_1  Pclass_2  Pclass_3  Sex_male  \\\n",
       "0         A/5 21171   7.2500        S         0         0         1         1   \n",
       "1          PC 17599  71.2833        C         1         0         0         0   \n",
       "2  STON/O2. 3101282   7.9250        S         0         0         1         0   \n",
       "3            113803  53.1000        S         1         0         0         0   \n",
       "4            373450   8.0500        S         0         0         1         1   \n",
       "\n",
       "   IsMinor  FamilyMem  TravelAlone  SmallFam  LargeFam  \n",
       "0        0          1            0         1         0  \n",
       "1        0          1            0         1         0  \n",
       "2        0          0            1         0         0  \n",
       "3        0          1            0         1         0  \n",
       "4        0          0            1         0         0  "
      ]
     },
     "execution_count": 33,
     "metadata": {},
     "output_type": "execute_result"
    }
   ],
   "source": [
    "train_data[\"Embarked\"].fillna(train_df['Embarked'].value_counts().idxmax(), inplace=True)\n",
    "train_data.head()"
   ]
  },
  {
   "cell_type": "code",
   "execution_count": 34,
   "id": "sublime-collection",
   "metadata": {
    "execution": {
     "iopub.execute_input": "2021-05-20T08:04:25.505166Z",
     "iopub.status.busy": "2021-05-20T08:04:25.504158Z",
     "iopub.status.idle": "2021-05-20T08:04:25.741435Z",
     "shell.execute_reply": "2021-05-20T08:04:25.740816Z",
     "shell.execute_reply.started": "2021-05-20T08:00:52.076796Z"
    },
    "papermill": {
     "duration": 0.313287,
     "end_time": "2021-05-20T08:04:25.741585",
     "exception": false,
     "start_time": "2021-05-20T08:04:25.428298",
     "status": "completed"
    },
    "tags": []
   },
   "outputs": [
    {
     "data": {
      "image/png": "[encoded data removed]",
      "text/plain": [
       "<Figure size 432x288 with 1 Axes>"
      ]
     },
     "metadata": {},
     "output_type": "display_data"
    }
   ],
   "source": [
    "sns.barplot('Embarked', 'Survived', data=train_data)\n",
    "plt.show()"
   ]
  },
  {
   "cell_type": "markdown",
   "id": "metallic-tuition",
   "metadata": {
    "papermill": {
     "duration": 0.069506,
     "end_time": "2021-05-20T08:04:25.882272",
     "exception": false,
     "start_time": "2021-05-20T08:04:25.812766",
     "status": "completed"
    },
    "tags": []
   },
   "source": [
    "Passengers who boarded in Cherbourg, France, appear to have the highest survival rate. Passengers who boarded in Southhampton were marginally less likely to survive than those who boarded in Queenstown. This is probably related to passenger class, or maybe even the order of room assignments (e.g. maybe earlier passengers were more likely to have rooms closer to deck).\n",
    "It's also worth noting the size of the whiskers in these plots. Because the number of passengers who boarded at Southhampton was highest, the confidence around the survival rate is the highest. The whisker of the Queenstown plot includes the Southhampton average, as well as the lower bound of its whisker. It's possible that Queenstown passengers were equally, or even more, ill-fated than their Southhampton counterparts."
   ]
  },
  {
   "cell_type": "code",
   "execution_count": 35,
   "id": "adopted-record",
   "metadata": {
    "execution": {
     "iopub.execute_input": "2021-05-20T08:04:26.045612Z",
     "iopub.status.busy": "2021-05-20T08:04:26.044933Z",
     "iopub.status.idle": "2021-05-20T08:04:26.048782Z",
     "shell.execute_reply": "2021-05-20T08:04:26.048259Z",
     "shell.execute_reply.started": "2021-05-20T08:00:52.312736Z"
    },
    "papermill": {
     "duration": 0.096641,
     "end_time": "2021-05-20T08:04:26.048921",
     "exception": false,
     "start_time": "2021-05-20T08:04:25.952280",
     "status": "completed"
    },
    "tags": []
   },
   "outputs": [
    {
     "data": {
      "text/html": [
       "<div>\n",
       "<style scoped>\n",
       "    .dataframe tbody tr th:only-of-type {\n",
       "        vertical-align: middle;\n",
       "    }\n",
       "\n",
       "    .dataframe tbody tr th {\n",
       "        vertical-align: top;\n",
       "    }\n",
       "\n",
       "    .dataframe thead th {\n",
       "        text-align: right;\n",
       "    }\n",
       "</style>\n",
       "<table border=\"1\" class=\"dataframe\">\n",
       "  <thead>\n",
       "    <tr style=\"text-align: right;\">\n",
       "      <th></th>\n",
       "      <th>Survived</th>\n",
       "      <th>Name</th>\n",
       "      <th>Age</th>\n",
       "      <th>Ticket</th>\n",
       "      <th>Fare</th>\n",
       "      <th>Pclass_1</th>\n",
       "      <th>Pclass_2</th>\n",
       "      <th>Pclass_3</th>\n",
       "      <th>Sex_male</th>\n",
       "      <th>IsMinor</th>\n",
       "      <th>FamilyMem</th>\n",
       "      <th>TravelAlone</th>\n",
       "      <th>SmallFam</th>\n",
       "      <th>LargeFam</th>\n",
       "      <th>Embarked_C</th>\n",
       "      <th>Embarked_Q</th>\n",
       "      <th>Embarked_S</th>\n",
       "    </tr>\n",
       "  </thead>\n",
       "  <tbody>\n",
       "    <tr>\n",
       "      <th>0</th>\n",
       "      <td>0</td>\n",
       "      <td>Braund, Mr. Owen Harris</td>\n",
       "      <td>22.0</td>\n",
       "      <td>A/5 21171</td>\n",
       "      <td>7.2500</td>\n",
       "      <td>0</td>\n",
       "      <td>0</td>\n",
       "      <td>1</td>\n",
       "      <td>1</td>\n",
       "      <td>0</td>\n",
       "      <td>1</td>\n",
       "      <td>0</td>\n",
       "      <td>1</td>\n",
       "      <td>0</td>\n",
       "      <td>0</td>\n",
       "      <td>0</td>\n",
       "      <td>1</td>\n",
       "    </tr>\n",
       "    <tr>\n",
       "      <th>1</th>\n",
       "      <td>1</td>\n",
       "      <td>Cumings, Mrs. John Bradley (Florence Briggs Th...</td>\n",
       "      <td>38.0</td>\n",
       "      <td>PC 17599</td>\n",
       "      <td>71.2833</td>\n",
       "      <td>1</td>\n",
       "      <td>0</td>\n",
       "      <td>0</td>\n",
       "      <td>0</td>\n",
       "      <td>0</td>\n",
       "      <td>1</td>\n",
       "      <td>0</td>\n",
       "      <td>1</td>\n",
       "      <td>0</td>\n",
       "      <td>1</td>\n",
       "      <td>0</td>\n",
       "      <td>0</td>\n",
       "    </tr>\n",
       "    <tr>\n",
       "      <th>2</th>\n",
       "      <td>1</td>\n",
       "      <td>Heikkinen, Miss. Laina</td>\n",
       "      <td>26.0</td>\n",
       "      <td>STON/O2. 3101282</td>\n",
       "      <td>7.9250</td>\n",
       "      <td>0</td>\n",
       "      <td>0</td>\n",
       "      <td>1</td>\n",
       "      <td>0</td>\n",
       "      <td>0</td>\n",
       "      <td>0</td>\n",
       "      <td>1</td>\n",
       "      <td>0</td>\n",
       "      <td>0</td>\n",
       "      <td>0</td>\n",
       "      <td>0</td>\n",
       "      <td>1</td>\n",
       "    </tr>\n",
       "    <tr>\n",
       "      <th>3</th>\n",
       "      <td>1</td>\n",
       "      <td>Futrelle, Mrs. Jacques Heath (Lily May Peel)</td>\n",
       "      <td>35.0</td>\n",
       "      <td>113803</td>\n",
       "      <td>53.1000</td>\n",
       "      <td>1</td>\n",
       "      <td>0</td>\n",
       "      <td>0</td>\n",
       "      <td>0</td>\n",
       "      <td>0</td>\n",
       "      <td>1</td>\n",
       "      <td>0</td>\n",
       "      <td>1</td>\n",
       "      <td>0</td>\n",
       "      <td>0</td>\n",
       "      <td>0</td>\n",
       "      <td>1</td>\n",
       "    </tr>\n",
       "    <tr>\n",
       "      <th>4</th>\n",
       "      <td>0</td>\n",
       "      <td>Allen, Mr. William Henry</td>\n",
       "      <td>35.0</td>\n",
       "      <td>373450</td>\n",
       "      <td>8.0500</td>\n",
       "      <td>0</td>\n",
       "      <td>0</td>\n",
       "      <td>1</td>\n",
       "      <td>1</td>\n",
       "      <td>0</td>\n",
       "      <td>0</td>\n",
       "      <td>1</td>\n",
       "      <td>0</td>\n",
       "      <td>0</td>\n",
       "      <td>0</td>\n",
       "      <td>0</td>\n",
       "      <td>1</td>\n",
       "    </tr>\n",
       "  </tbody>\n",
       "</table>\n",
       "</div>"
      ],
      "text/plain": [
       "   Survived                                               Name   Age  \\\n",
       "0         0                            Braund, Mr. Owen Harris  22.0   \n",
       "1         1  Cumings, Mrs. John Bradley (Florence Briggs Th...  38.0   \n",
       "2         1                             Heikkinen, Miss. Laina  26.0   \n",
       "3         1       Futrelle, Mrs. Jacques Heath (Lily May Peel)  35.0   \n",
       "4         0                           Allen, Mr. William Henry  35.0   \n",
       "\n",
       "             Ticket     Fare  Pclass_1  Pclass_2  Pclass_3  Sex_male  IsMinor  \\\n",
       "0         A/5 21171   7.2500         0         0         1         1        0   \n",
       "1          PC 17599  71.2833         1         0         0         0        0   \n",
       "2  STON/O2. 3101282   7.9250         0         0         1         0        0   \n",
       "3            113803  53.1000         1         0         0         0        0   \n",
       "4            373450   8.0500         0         0         1         1        0   \n",
       "\n",
       "   FamilyMem  TravelAlone  SmallFam  LargeFam  Embarked_C  Embarked_Q  \\\n",
       "0          1            0         1         0           0           0   \n",
       "1          1            0         1         0           1           0   \n",
       "2          0            1         0         0           0           0   \n",
       "3          1            0         1         0           0           0   \n",
       "4          0            1         0         0           0           0   \n",
       "\n",
       "   Embarked_S  \n",
       "0           1  \n",
       "1           0  \n",
       "2           1  \n",
       "3           1  \n",
       "4           1  "
      ]
     },
     "execution_count": 35,
     "metadata": {},
     "output_type": "execute_result"
    }
   ],
   "source": [
    "#create one-hot code for Embarked in train_data\n",
    "train_data = pd.get_dummies(train_data, columns=[\"Embarked\"])\n",
    "train_data.head()"
   ]
  },
  {
   "cell_type": "code",
   "execution_count": 36,
   "id": "precious-correspondence",
   "metadata": {
    "execution": {
     "iopub.execute_input": "2021-05-20T08:04:26.194020Z",
     "iopub.status.busy": "2021-05-20T08:04:26.193379Z",
     "iopub.status.idle": "2021-05-20T08:04:26.215204Z",
     "shell.execute_reply": "2021-05-20T08:04:26.214708Z",
     "shell.execute_reply.started": "2021-05-20T08:00:52.336625Z"
    },
    "papermill": {
     "duration": 0.095147,
     "end_time": "2021-05-20T08:04:26.215342",
     "exception": false,
     "start_time": "2021-05-20T08:04:26.120195",
     "status": "completed"
    },
    "tags": []
   },
   "outputs": [
    {
     "data": {
      "text/html": [
       "<div>\n",
       "<style scoped>\n",
       "    .dataframe tbody tr th:only-of-type {\n",
       "        vertical-align: middle;\n",
       "    }\n",
       "\n",
       "    .dataframe tbody tr th {\n",
       "        vertical-align: top;\n",
       "    }\n",
       "\n",
       "    .dataframe thead th {\n",
       "        text-align: right;\n",
       "    }\n",
       "</style>\n",
       "<table border=\"1\" class=\"dataframe\">\n",
       "  <thead>\n",
       "    <tr style=\"text-align: right;\">\n",
       "      <th></th>\n",
       "      <th>Name</th>\n",
       "      <th>Age</th>\n",
       "      <th>Ticket</th>\n",
       "      <th>Fare</th>\n",
       "      <th>Pclass_1</th>\n",
       "      <th>Pclass_2</th>\n",
       "      <th>Pclass_3</th>\n",
       "      <th>Sex_male</th>\n",
       "      <th>IsMinor</th>\n",
       "      <th>FamilyMem</th>\n",
       "      <th>TravelAlone</th>\n",
       "      <th>SmallFam</th>\n",
       "      <th>LargeFam</th>\n",
       "      <th>Embarked_C</th>\n",
       "      <th>Embarked_Q</th>\n",
       "      <th>Embarked_S</th>\n",
       "    </tr>\n",
       "  </thead>\n",
       "  <tbody>\n",
       "    <tr>\n",
       "      <th>0</th>\n",
       "      <td>Kelly, Mr. James</td>\n",
       "      <td>34.5</td>\n",
       "      <td>330911</td>\n",
       "      <td>7.8292</td>\n",
       "      <td>0</td>\n",
       "      <td>0</td>\n",
       "      <td>1</td>\n",
       "      <td>1</td>\n",
       "      <td>0</td>\n",
       "      <td>0</td>\n",
       "      <td>1</td>\n",
       "      <td>0</td>\n",
       "      <td>0</td>\n",
       "      <td>0</td>\n",
       "      <td>1</td>\n",
       "      <td>0</td>\n",
       "    </tr>\n",
       "    <tr>\n",
       "      <th>1</th>\n",
       "      <td>Wilkes, Mrs. James (Ellen Needs)</td>\n",
       "      <td>47.0</td>\n",
       "      <td>363272</td>\n",
       "      <td>7.0000</td>\n",
       "      <td>0</td>\n",
       "      <td>0</td>\n",
       "      <td>1</td>\n",
       "      <td>0</td>\n",
       "      <td>0</td>\n",
       "      <td>1</td>\n",
       "      <td>0</td>\n",
       "      <td>1</td>\n",
       "      <td>0</td>\n",
       "      <td>0</td>\n",
       "      <td>0</td>\n",
       "      <td>1</td>\n",
       "    </tr>\n",
       "    <tr>\n",
       "      <th>2</th>\n",
       "      <td>Myles, Mr. Thomas Francis</td>\n",
       "      <td>62.0</td>\n",
       "      <td>240276</td>\n",
       "      <td>9.6875</td>\n",
       "      <td>0</td>\n",
       "      <td>1</td>\n",
       "      <td>0</td>\n",
       "      <td>1</td>\n",
       "      <td>0</td>\n",
       "      <td>0</td>\n",
       "      <td>1</td>\n",
       "      <td>0</td>\n",
       "      <td>0</td>\n",
       "      <td>0</td>\n",
       "      <td>1</td>\n",
       "      <td>0</td>\n",
       "    </tr>\n",
       "    <tr>\n",
       "      <th>3</th>\n",
       "      <td>Wirz, Mr. Albert</td>\n",
       "      <td>27.0</td>\n",
       "      <td>315154</td>\n",
       "      <td>8.6625</td>\n",
       "      <td>0</td>\n",
       "      <td>0</td>\n",
       "      <td>1</td>\n",
       "      <td>1</td>\n",
       "      <td>0</td>\n",
       "      <td>0</td>\n",
       "      <td>1</td>\n",
       "      <td>0</td>\n",
       "      <td>0</td>\n",
       "      <td>0</td>\n",
       "      <td>0</td>\n",
       "      <td>1</td>\n",
       "    </tr>\n",
       "    <tr>\n",
       "      <th>4</th>\n",
       "      <td>Hirvonen, Mrs. Alexander (Helga E Lindqvist)</td>\n",
       "      <td>22.0</td>\n",
       "      <td>3101298</td>\n",
       "      <td>12.2875</td>\n",
       "      <td>0</td>\n",
       "      <td>0</td>\n",
       "      <td>1</td>\n",
       "      <td>0</td>\n",
       "      <td>0</td>\n",
       "      <td>2</td>\n",
       "      <td>0</td>\n",
       "      <td>1</td>\n",
       "      <td>0</td>\n",
       "      <td>0</td>\n",
       "      <td>0</td>\n",
       "      <td>1</td>\n",
       "    </tr>\n",
       "  </tbody>\n",
       "</table>\n",
       "</div>"
      ],
      "text/plain": [
       "                                           Name   Age   Ticket     Fare  \\\n",
       "0                              Kelly, Mr. James  34.5   330911   7.8292   \n",
       "1              Wilkes, Mrs. James (Ellen Needs)  47.0   363272   7.0000   \n",
       "2                     Myles, Mr. Thomas Francis  62.0   240276   9.6875   \n",
       "3                              Wirz, Mr. Albert  27.0   315154   8.6625   \n",
       "4  Hirvonen, Mrs. Alexander (Helga E Lindqvist)  22.0  3101298  12.2875   \n",
       "\n",
       "   Pclass_1  Pclass_2  Pclass_3  Sex_male  IsMinor  FamilyMem  TravelAlone  \\\n",
       "0         0         0         1         1        0          0            1   \n",
       "1         0         0         1         0        0          1            0   \n",
       "2         0         1         0         1        0          0            1   \n",
       "3         0         0         1         1        0          0            1   \n",
       "4         0         0         1         0        0          2            0   \n",
       "\n",
       "   SmallFam  LargeFam  Embarked_C  Embarked_Q  Embarked_S  \n",
       "0         0         0           0           1           0  \n",
       "1         1         0           0           0           1  \n",
       "2         0         0           0           1           0  \n",
       "3         0         0           0           0           1  \n",
       "4         1         0           0           0           1  "
      ]
     },
     "execution_count": 36,
     "metadata": {},
     "output_type": "execute_result"
    }
   ],
   "source": [
    "#create one-hot code for Embarked in test_data\n",
    "test_data = pd.get_dummies(test_data, columns=[\"Embarked\"])\n",
    "test_data.head()"
   ]
  },
  {
   "cell_type": "markdown",
   "id": "compound-reverse",
   "metadata": {
    "papermill": {
     "duration": 0.070954,
     "end_time": "2021-05-20T08:04:26.357395",
     "exception": false,
     "start_time": "2021-05-20T08:04:26.286441",
     "status": "completed"
    },
    "tags": []
   },
   "source": [
    "<a id=\"t2.8\"></a>\n",
    "## 2.8 Name"
   ]
  },
  {
   "cell_type": "code",
   "execution_count": 37,
   "id": "seven-luther",
   "metadata": {
    "execution": {
     "iopub.execute_input": "2021-05-20T08:04:26.505620Z",
     "iopub.status.busy": "2021-05-20T08:04:26.504624Z",
     "iopub.status.idle": "2021-05-20T08:04:26.511029Z",
     "shell.execute_reply": "2021-05-20T08:04:26.510461Z",
     "shell.execute_reply.started": "2021-05-20T08:00:52.359724Z"
    },
    "papermill": {
     "duration": 0.083104,
     "end_time": "2021-05-20T08:04:26.511176",
     "exception": false,
     "start_time": "2021-05-20T08:04:26.428072",
     "status": "completed"
    },
    "tags": []
   },
   "outputs": [],
   "source": [
    "train_data.drop('Name', axis=1, inplace=True)\n",
    "test_data.drop('Name', axis=1, inplace=True)"
   ]
  },
  {
   "cell_type": "markdown",
   "id": "raising-sharp",
   "metadata": {
    "papermill": {
     "duration": 0.071242,
     "end_time": "2021-05-20T08:04:26.654036",
     "exception": false,
     "start_time": "2021-05-20T08:04:26.582794",
     "status": "completed"
    },
    "tags": []
   },
   "source": [
    "<a id=\"t2.9\"></a>\n",
    "## 2.9 Ticket"
   ]
  },
  {
   "cell_type": "code",
   "execution_count": 38,
   "id": "sonic-ecuador",
   "metadata": {
    "execution": {
     "iopub.execute_input": "2021-05-20T08:04:26.817011Z",
     "iopub.status.busy": "2021-05-20T08:04:26.816319Z",
     "iopub.status.idle": "2021-05-20T08:04:26.820972Z",
     "shell.execute_reply": "2021-05-20T08:04:26.821461Z",
     "shell.execute_reply.started": "2021-05-20T08:00:52.372449Z"
    },
    "papermill": {
     "duration": 0.096634,
     "end_time": "2021-05-20T08:04:26.821686",
     "exception": false,
     "start_time": "2021-05-20T08:04:26.725052",
     "status": "completed"
    },
    "tags": []
   },
   "outputs": [],
   "source": [
    "train_data.drop('Ticket', axis=1, inplace=True)\n",
    "test_data.drop('Ticket', axis=1, inplace=True)"
   ]
  },
  {
   "cell_type": "markdown",
   "id": "listed-colony",
   "metadata": {
    "papermill": {
     "duration": 0.070902,
     "end_time": "2021-05-20T08:04:26.968113",
     "exception": false,
     "start_time": "2021-05-20T08:04:26.897211",
     "status": "completed"
    },
    "tags": []
   },
   "source": [
    "<a id=\"t3\"></a>\n",
    "# 3 Logistic Regression and Results"
   ]
  },
  {
   "cell_type": "markdown",
   "id": "respective-geneva",
   "metadata": {
    "papermill": {
     "duration": 0.071902,
     "end_time": "2021-05-20T08:04:27.111117",
     "exception": false,
     "start_time": "2021-05-20T08:04:27.039215",
     "status": "completed"
    },
    "tags": []
   },
   "source": [
    "<a id=\"t3.1\"></a>\n",
    "## 3.1 Feature selection"
   ]
  },
  {
   "cell_type": "markdown",
   "id": "mexican-luxury",
   "metadata": {
    "papermill": {
     "duration": 0.072416,
     "end_time": "2021-05-20T08:04:27.255180",
     "exception": false,
     "start_time": "2021-05-20T08:04:27.182764",
     "status": "completed"
    },
    "tags": []
   },
   "source": []
  },
  {
   "cell_type": "markdown",
   "id": "elder-saskatchewan",
   "metadata": {
    "papermill": {
     "duration": 0.071347,
     "end_time": "2021-05-20T08:04:27.397581",
     "exception": false,
     "start_time": "2021-05-20T08:04:27.326234",
     "status": "completed"
    },
    "tags": []
   },
   "source": [
    "### Feature ranking with recursive feature elimination and cross-validation\n",
    "\n",
    "RFECV performs RFE in a cross-validation loop to find the optimal number or the best number of features. Hereafter a recursive feature elimination applied on logistic regression with automatic tuning of the number of features selected with cross-validation."
   ]
  },
  {
   "cell_type": "code",
   "execution_count": 39,
   "id": "sapphire-carry",
   "metadata": {
    "execution": {
     "iopub.execute_input": "2021-05-20T08:04:27.547815Z",
     "iopub.status.busy": "2021-05-20T08:04:27.547072Z",
     "iopub.status.idle": "2021-05-20T08:04:29.415468Z",
     "shell.execute_reply": "2021-05-20T08:04:29.416024Z",
     "shell.execute_reply.started": "2021-05-20T08:00:52.383609Z"
    },
    "papermill": {
     "duration": 1.947692,
     "end_time": "2021-05-20T08:04:29.416190",
     "exception": false,
     "start_time": "2021-05-20T08:04:27.468498",
     "status": "completed"
    },
    "tags": []
   },
   "outputs": [
    {
     "name": "stdout",
     "output_type": "stream",
     "text": [
      "Optimal number of features: 6\n",
      "Selected features: ['SmallFam', 'LargeFam', 'Pclass_1', 'Pclass_2', 'Sex_male', 'IsMinor']\n"
     ]
    },
    {
     "data": {
      "image/png": "[encoded data removed]",
      "text/plain": [
       "<Figure size 720x432 with 1 Axes>"
      ]
     },
     "metadata": {},
     "output_type": "display_data"
    }
   ],
   "source": [
    "from sklearn.linear_model import LogisticRegression\n",
    "from sklearn.feature_selection import RFE\n",
    "from sklearn.feature_selection import RFECV\n",
    "\n",
    "cols = [\"Age\",\"Fare\",\"TravelAlone\",\"SmallFam\",\"LargeFam\",\"Pclass_1\",\"Pclass_2\",\"Embarked_C\",\"Embarked_S\",\"Sex_male\",\"IsMinor\"] \n",
    "X = train_data[cols]\n",
    "y = train_data['Survived']\n",
    "\n",
    "# Create the RFE object and compute a cross-validated score.\n",
    "# The \"accuracy\" scoring is proportional to the number of correct classifications\n",
    "rfecv = RFECV(estimator=LogisticRegression(), step=1, cv=10, scoring='accuracy')\n",
    "rfecv.fit(X, y)\n",
    "\n",
    "print(\"Optimal number of features: %d\" % rfecv.n_features_)\n",
    "print('Selected features: %s' % list(X.columns[rfecv.support_]))\n",
    "\n",
    "# Plot number of features VS. cross-validation scores\n",
    "plt.figure(figsize=(10,6))\n",
    "plt.xlabel(\"Number of features selected\")\n",
    "plt.ylabel(\"Cross validation score (nb of correct classifications)\")\n",
    "plt.plot(range(1, len(rfecv.grid_scores_) + 1), rfecv.grid_scores_)\n",
    "plt.show()"
   ]
  },
  {
   "cell_type": "code",
   "execution_count": 40,
   "id": "sustainable-chain",
   "metadata": {
    "execution": {
     "iopub.execute_input": "2021-05-20T08:04:29.596174Z",
     "iopub.status.busy": "2021-05-20T08:04:29.587160Z",
     "iopub.status.idle": "2021-05-20T08:04:29.934066Z",
     "shell.execute_reply": "2021-05-20T08:04:29.934498Z",
     "shell.execute_reply.started": "2021-05-20T08:00:54.173863Z"
    },
    "papermill": {
     "duration": 0.443519,
     "end_time": "2021-05-20T08:04:29.934691",
     "exception": false,
     "start_time": "2021-05-20T08:04:29.491172",
     "status": "completed"
    },
    "tags": []
   },
   "outputs": [
    {
     "data": {
      "image/png": "[encoded data removed]",
      "text/plain": [
       "<Figure size 576x360 with 2 Axes>"
      ]
     },
     "metadata": {},
     "output_type": "display_data"
    }
   ],
   "source": [
    "Selected_features = ['SmallFam', 'LargeFam', 'Pclass_1', 'Pclass_2', 'Sex_male', 'IsMinor']\n",
    "X = train_data[Selected_features]\n",
    "\n",
    "plt.subplots(figsize=(8, 5))\n",
    "sns.heatmap(X.corr(), annot=True, cmap=\"RdYlGn\")\n",
    "plt.show()"
   ]
  },
  {
   "cell_type": "markdown",
   "id": "active-welsh",
   "metadata": {
    "papermill": {
     "duration": 0.07441,
     "end_time": "2021-05-20T08:04:30.082875",
     "exception": false,
     "start_time": "2021-05-20T08:04:30.008465",
     "status": "completed"
    },
    "tags": []
   },
   "source": [
    "<a id=\"t3.2\"></a>\n",
    "## 3.2 Review of model evaluation procedures\n",
    "\n",
    "Motivation: Need a way to choose between machine learning models\n",
    "- Goal is to estimate likely performance of a model on out-of-sample data\n",
    "\n",
    "Initial idea: Train and test on the same data\n",
    "- But, maximizing training accuracy rewards overly complex models which overfit the training data\n",
    "\n",
    "Alternative idea: Train/test split\n",
    "- Split the dataset into two pieces, so that the model can be trained and tested on different data\n",
    "- Testing accuracy is a better estimate than training accuracy of out-of-sample performance\n",
    "- Problem with train/test split\n",
    "    - It provides a high variance estimate since changing which observations happen to be in the testing set can significantly change testing accuracy\n",
    "    - Testing accuracy can change a lot depending on a which observation happen to be in the testing set\n",
    "\n",
    "Reference:\n",
    "<http://www.ritchieng.com/machine-learning-cross-validation/>"
   ]
  },
  {
   "cell_type": "markdown",
   "id": "vocational-accountability",
   "metadata": {
    "papermill": {
     "duration": 0.074317,
     "end_time": "2021-05-20T08:04:30.231945",
     "exception": false,
     "start_time": "2021-05-20T08:04:30.157628",
     "status": "completed"
    },
    "tags": []
   },
   "source": [
    "<a id=\"t3.2.1\"></a>\n",
    "### 3.2.1 Model evaluation based on simple train/test split using `train_test_split()` function"
   ]
  },
  {
   "cell_type": "code",
   "execution_count": 41,
   "id": "reserved-queensland",
   "metadata": {
    "execution": {
     "iopub.execute_input": "2021-05-20T08:04:30.386165Z",
     "iopub.status.busy": "2021-05-20T08:04:30.385486Z",
     "iopub.status.idle": "2021-05-20T08:04:30.615179Z",
     "shell.execute_reply": "2021-05-20T08:04:30.614688Z",
     "shell.execute_reply.started": "2021-05-20T08:00:54.584841Z"
    },
    "papermill": {
     "duration": 0.307658,
     "end_time": "2021-05-20T08:04:30.615319",
     "exception": false,
     "start_time": "2021-05-20T08:04:30.307661",
     "status": "completed"
    },
    "tags": []
   },
   "outputs": [
    {
     "name": "stdout",
     "output_type": "stream",
     "text": [
      "Train/Test split results:\n",
      "LogisticRegression accuracy is 0.799\n",
      "LogisticRegression log_loss is 0.499\n",
      "LogisticRegression auc is 0.831\n"
     ]
    },
    {
     "data": {
      "image/png": "[encoded data removed]",
      "text/plain": [
       "<Figure size 432x288 with 1 Axes>"
      ]
     },
     "metadata": {},
     "output_type": "display_data"
    },
    {
     "name": "stdout",
     "output_type": "stream",
     "text": [
      "Using a threshold of 0.080 guarantees a sensitivity of 1.000 and a specificity of 0.050, i.e. a false positive rate of 95.00%.\n"
     ]
    }
   ],
   "source": [
    "from sklearn.model_selection import train_test_split, cross_val_score\n",
    "from sklearn.metrics import accuracy_score, classification_report, precision_score, recall_score \n",
    "from sklearn.metrics import confusion_matrix, precision_recall_curve, roc_curve, auc, log_loss\n",
    "\n",
    "# create X (features) and y (response)\n",
    "X = train_data[Selected_features]\n",
    "y = train_data['Survived']\n",
    "\n",
    "# use train/test split with different random_state values\n",
    "# we can change the random_state values that changes the accuracy scores\n",
    "# the scores change a lot, this is why testing scores is a high-variance estimate\n",
    "X_train, X_test, y_train, y_test = train_test_split(X, y, test_size=0.2, random_state=2)\n",
    "\n",
    "# check classification scores of logistic regression\n",
    "logreg = LogisticRegression()\n",
    "logreg.fit(X_train, y_train)\n",
    "y_pred = logreg.predict(X_test)\n",
    "y_pred_proba = logreg.predict_proba(X_test)[:, 1]\n",
    "[fpr, tpr, thr] = roc_curve(y_test, y_pred_proba)\n",
    "print('Train/Test split results:')\n",
    "print(logreg.__class__.__name__+\" accuracy is %2.3f\" % accuracy_score(y_test, y_pred))\n",
    "print(logreg.__class__.__name__+\" log_loss is %2.3f\" % log_loss(y_test, y_pred_proba))\n",
    "print(logreg.__class__.__name__+\" auc is %2.3f\" % auc(fpr, tpr))\n",
    "\n",
    "idx = np.min(np.where(tpr > 0.95)) # index of the first threshold for which the sensibility > 0.95\n",
    "\n",
    "plt.figure()\n",
    "plt.plot(fpr, tpr, color='coral', label='ROC curve (area = %0.3f)' % auc(fpr, tpr))\n",
    "plt.plot([0, 1], [0, 1], 'k--')\n",
    "plt.plot([0,fpr[idx]], [tpr[idx],tpr[idx]], 'k--', color='blue')\n",
    "plt.plot([fpr[idx],fpr[idx]], [0,tpr[idx]], 'k--', color='blue')\n",
    "plt.xlim([0.0, 1.0])\n",
    "plt.ylim([0.0, 1.05])\n",
    "plt.xlabel('False Positive Rate (1 - specificity)', fontsize=14)\n",
    "plt.ylabel('True Positive Rate (recall)', fontsize=14)\n",
    "plt.title('Receiver operating characteristic (ROC) curve')\n",
    "plt.legend(loc=\"lower right\")\n",
    "plt.show()\n",
    "\n",
    "print(\"Using a threshold of %.3f \" % thr[idx] + \"guarantees a sensitivity of %.3f \" % tpr[idx] +  \n",
    "      \"and a specificity of %.3f\" % (1-fpr[idx]) + \n",
    "      \", i.e. a false positive rate of %.2f%%.\" % (np.array(fpr[idx])*100))"
   ]
  },
  {
   "cell_type": "markdown",
   "id": "endangered-consent",
   "metadata": {
    "papermill": {
     "duration": 0.076622,
     "end_time": "2021-05-20T08:04:30.767973",
     "exception": false,
     "start_time": "2021-05-20T08:04:30.691351",
     "status": "completed"
    },
    "tags": []
   },
   "source": [
    "<a id=\"t3.2.2\"></a>\n",
    "### 3.2.2. Model evaluation based on K-fold cross-validation using `cross_val_score()` function"
   ]
  },
  {
   "cell_type": "code",
   "execution_count": 42,
   "id": "structural-nashville",
   "metadata": {
    "execution": {
     "iopub.execute_input": "2021-05-20T08:04:30.927892Z",
     "iopub.status.busy": "2021-05-20T08:04:30.927193Z",
     "iopub.status.idle": "2021-05-20T08:04:31.253889Z",
     "shell.execute_reply": "2021-05-20T08:04:31.253313Z",
     "shell.execute_reply.started": "2021-05-20T08:00:54.806267Z"
    },
    "papermill": {
     "duration": 0.410159,
     "end_time": "2021-05-20T08:04:31.254031",
     "exception": false,
     "start_time": "2021-05-20T08:04:30.843872",
     "status": "completed"
    },
    "tags": []
   },
   "outputs": [
    {
     "name": "stdout",
     "output_type": "stream",
     "text": [
      "K-fold cross-validation results:\n",
      "LogisticRegression average accuracy is 0.822\n",
      "LogisticRegression average log_loss is 0.439\n",
      "LogisticRegression average auc is 0.860\n"
     ]
    }
   ],
   "source": [
    "# 10-fold cross-validation logistic regression\n",
    "logreg = LogisticRegression()\n",
    "# Use cross_val_score function\n",
    "# We are passing the entirety of X and y, not X_train or y_train, it takes care of splitting the data\n",
    "# cv=10 for 10 folds\n",
    "# scoring = {'accuracy', 'neg_log_loss', 'roc_auc'} for evaluation metric - althought they are many\n",
    "scores_accuracy = cross_val_score(logreg, X, y, cv=10, scoring='accuracy')\n",
    "scores_log_loss = cross_val_score(logreg, X, y, cv=10, scoring='neg_log_loss')\n",
    "scores_auc = cross_val_score(logreg, X, y, cv=10, scoring='roc_auc')\n",
    "print('K-fold cross-validation results:')\n",
    "print(logreg.__class__.__name__+\" average accuracy is %2.3f\" % scores_accuracy.mean())\n",
    "print(logreg.__class__.__name__+\" average log_loss is %2.3f\" % -scores_log_loss.mean())\n",
    "print(logreg.__class__.__name__+\" average auc is %2.3f\" % scores_auc.mean())"
   ]
  },
  {
   "cell_type": "markdown",
   "id": "hungry-procurement",
   "metadata": {
    "papermill": {
     "duration": 0.078011,
     "end_time": "2021-05-20T08:04:31.409872",
     "exception": false,
     "start_time": "2021-05-20T08:04:31.331861",
     "status": "completed"
    },
    "tags": []
   },
   "source": [
    "<a id=\"t3.2.3\"></a>\n",
    "### 3.2.3. Model evaluation based on K-fold cross-validation using `cross_validate()` function"
   ]
  },
  {
   "cell_type": "code",
   "execution_count": 43,
   "id": "elegant-superior",
   "metadata": {
    "execution": {
     "iopub.execute_input": "2021-05-20T08:04:31.572366Z",
     "iopub.status.busy": "2021-05-20T08:04:31.571483Z",
     "iopub.status.idle": "2021-05-20T08:04:31.726844Z",
     "shell.execute_reply": "2021-05-20T08:04:31.727495Z",
     "shell.execute_reply.started": "2021-05-20T08:00:55.113402Z"
    },
    "papermill": {
     "duration": 0.241561,
     "end_time": "2021-05-20T08:04:31.727733",
     "exception": false,
     "start_time": "2021-05-20T08:04:31.486172",
     "status": "completed"
    },
    "tags": []
   },
   "outputs": [
    {
     "name": "stdout",
     "output_type": "stream",
     "text": [
      "K-fold cross-validation results:\n",
      "LogisticRegression average accuracy: 0.822 (+/-0.027)\n",
      "LogisticRegression average log_loss: 0.439 (+/-0.038)\n",
      "LogisticRegression average auc: 0.860 (+/-0.029)\n"
     ]
    }
   ],
   "source": [
    "from sklearn.model_selection import cross_validate\n",
    "\n",
    "scoring = {'accuracy': 'accuracy', 'log_loss': 'neg_log_loss', 'auc': 'roc_auc'}\n",
    "\n",
    "modelCV = LogisticRegression()\n",
    "\n",
    "results = cross_validate(modelCV, X, y, cv=10, scoring=list(scoring.values()), \n",
    "                         return_train_score=False)\n",
    "\n",
    "print('K-fold cross-validation results:')\n",
    "for sc in range(len(scoring)):\n",
    "    print(modelCV.__class__.__name__+\" average %s: %.3f (+/-%.3f)\" % (list(scoring.keys())[sc], -results['test_%s' % list(scoring.values())[sc]].mean()\n",
    "                               if list(scoring.values())[sc]=='neg_log_loss' \n",
    "                               else results['test_%s' % list(scoring.values())[sc]].mean(), \n",
    "                               results['test_%s' % list(scoring.values())[sc]].std()))"
   ]
  },
  {
   "cell_type": "markdown",
   "id": "killing-reliance",
   "metadata": {
    "papermill": {
     "duration": 0.076602,
     "end_time": "2021-05-20T08:04:31.882266",
     "exception": false,
     "start_time": "2021-05-20T08:04:31.805664",
     "status": "completed"
    },
    "tags": []
   },
   "source": [
    "<a id=\"t3.3\"></a>\n",
    "## 3.3 GridSearchCV evaluating using multiple scorers simultaneously"
   ]
  },
  {
   "cell_type": "code",
   "execution_count": 44,
   "id": "foreign-interaction",
   "metadata": {
    "execution": {
     "iopub.execute_input": "2021-05-20T08:04:32.055302Z",
     "iopub.status.busy": "2021-05-20T08:04:32.054371Z",
     "iopub.status.idle": "2021-05-20T08:04:39.585317Z",
     "shell.execute_reply": "2021-05-20T08:04:39.584712Z",
     "shell.execute_reply.started": "2021-05-20T08:00:55.266249Z"
    },
    "papermill": {
     "duration": 7.625924,
     "end_time": "2021-05-20T08:04:39.585448",
     "exception": false,
     "start_time": "2021-05-20T08:04:31.959524",
     "status": "completed"
    },
    "tags": []
   },
   "outputs": [
    {
     "name": "stdout",
     "output_type": "stream",
     "text": [
      "====================\n",
      "best params: LogisticRegression(C=0.80001)\n",
      "best params: {'C': 0.80001}\n",
      "best score: 0.8215480649188514\n",
      "====================\n"
     ]
    },
    {
     "data": {
      "image/png": "[encoded data removed]",
      "text/plain": [
       "<Figure size 720x720 with 2 Axes>"
      ]
     },
     "metadata": {},
     "output_type": "display_data"
    }
   ],
   "source": [
    "from sklearn.model_selection import GridSearchCV\n",
    "\n",
    "X = train_data[Selected_features]\n",
    "\n",
    "param_grid = {'C': np.arange(1e-05, 3, 0.1)}\n",
    "scoring = {'Accuracy': 'accuracy', 'AUC': 'roc_auc', 'Log_loss': 'neg_log_loss'}\n",
    "\n",
    "gs = GridSearchCV(LogisticRegression(), return_train_score=True,\n",
    "                  param_grid=param_grid, scoring=scoring, cv=10, refit='Accuracy')\n",
    "\n",
    "gs.fit(X, y)\n",
    "results = gs.cv_results_\n",
    "\n",
    "print('='*20)\n",
    "print(\"best params: \" + str(gs.best_estimator_))\n",
    "print(\"best params: \" + str(gs.best_params_))\n",
    "print('best score:', gs.best_score_)\n",
    "print('='*20)\n",
    "\n",
    "plt.figure(figsize=(10, 10))\n",
    "plt.title(\"GridSearchCV evaluating using multiple scorers simultaneously\",fontsize=16)\n",
    "\n",
    "plt.xlabel(\"Inverse of regularization strength: C\")\n",
    "plt.ylabel(\"Score\")\n",
    "plt.grid()\n",
    "\n",
    "ax = plt.axes()\n",
    "ax.set_xlim(0, param_grid['C'].max()) \n",
    "ax.set_ylim(0.35, 0.95)\n",
    "\n",
    "# Get the regular numpy array from the MaskedArray\n",
    "X_axis = np.array(results['param_C'].data, dtype=float)\n",
    "\n",
    "for scorer, color in zip(list(scoring.keys()), ['g', 'k', 'b']): \n",
    "    for sample, style in (('train', '--'), ('test', '-')):\n",
    "        sample_score_mean = -results['mean_%s_%s' % (sample, scorer)] if scoring[scorer]=='neg_log_loss' else results['mean_%s_%s' % (sample, scorer)]\n",
    "        sample_score_std = results['std_%s_%s' % (sample, scorer)]\n",
    "        ax.fill_between(X_axis, sample_score_mean - sample_score_std,\n",
    "                        sample_score_mean + sample_score_std,\n",
    "                        alpha=0.1 if sample == 'test' else 0, color=color)\n",
    "        ax.plot(X_axis, sample_score_mean, style, color=color,\n",
    "                alpha=1 if sample == 'test' else 0.7,\n",
    "                label=\"%s (%s)\" % (scorer, sample))\n",
    "\n",
    "    best_index = np.nonzero(results['rank_test_%s' % scorer] == 1)[0][0]\n",
    "    best_score = -results['mean_test_%s' % scorer][best_index] if scoring[scorer]=='neg_log_loss' else results['mean_test_%s' % scorer][best_index]\n",
    "        \n",
    "    # Plot a dotted vertical line at the best score for that scorer marked by x\n",
    "    ax.plot([X_axis[best_index], ] * 2, [0, best_score],\n",
    "            linestyle='-.', color=color, marker='x', markeredgewidth=3, ms=8)\n",
    "\n",
    "    # Annotate the best score for that scorer\n",
    "    ax.annotate(\"%0.2f\" % best_score,\n",
    "                (X_axis[best_index], best_score + 0.005))\n",
    "\n",
    "plt.legend(loc=\"best\")\n",
    "plt.grid('off')\n",
    "plt.show()"
   ]
  },
  {
   "cell_type": "markdown",
   "id": "devoted-throat",
   "metadata": {
    "papermill": {
     "duration": 0.081235,
     "end_time": "2021-05-20T08:04:39.747875",
     "exception": false,
     "start_time": "2021-05-20T08:04:39.666640",
     "status": "completed"
    },
    "tags": []
   },
   "source": [
    "<a id=\"t3.4\"></a>\n",
    "## 3.4 GridSearchCV evaluating using multiple scorers, RepeatedStratifiedKFold and pipeline for preprocessing simultaneously\n",
    "\n",
    "We can applied many tasks together for more in-depth evaluation like gridsearch using cross-validation based on k-folds repeated many times, that can be scaled or no with respect to many scorers and tunning on parameter for a given estimator!"
   ]
  },
  {
   "cell_type": "code",
   "execution_count": 45,
   "id": "romance-paintball",
   "metadata": {
    "execution": {
     "iopub.execute_input": "2021-05-20T08:04:39.936589Z",
     "iopub.status.busy": "2021-05-20T08:04:39.935434Z",
     "iopub.status.idle": "2021-05-20T08:05:17.854018Z",
     "shell.execute_reply": "2021-05-20T08:05:17.854494Z",
     "shell.execute_reply.started": "2021-05-20T08:01:43.661915Z"
    },
    "papermill": {
     "duration": 38.026284,
     "end_time": "2021-05-20T08:05:17.854684",
     "exception": false,
     "start_time": "2021-05-20T08:04:39.828400",
     "status": "completed"
    },
    "tags": []
   },
   "outputs": [
    {
     "name": "stdout",
     "output_type": "stream",
     "text": [
      "====================\n",
      "best params: Pipeline(steps=[('scale', StandardScaler(with_mean=False, with_std=False)),\n",
      "                ('clf', LogisticRegression(C=2.00001))])\n",
      "best params: {'clf__C': 2.00001}\n",
      "best score: 0.8163957064842132\n",
      "====================\n"
     ]
    },
    {
     "data": {
      "image/png": "[encoded data removed]",
      "text/plain": [
       "<Figure size 720x720 with 2 Axes>"
      ]
     },
     "metadata": {},
     "output_type": "display_data"
    }
   ],
   "source": [
    "from sklearn.preprocessing import StandardScaler\n",
    "from sklearn.model_selection import RepeatedStratifiedKFold\n",
    "from sklearn.pipeline import Pipeline\n",
    "\n",
    "#Define simple model\n",
    "###############################################################################\n",
    "C = np.arange(1e-05, 5.5, 0.1)\n",
    "scoring = {'Accuracy': 'accuracy', 'AUC': 'roc_auc', 'Log_loss': 'neg_log_loss'}\n",
    "log_reg = LogisticRegression()\n",
    "\n",
    "#Simple pre-processing estimators\n",
    "###############################################################################\n",
    "std_scale = StandardScaler(with_mean=False, with_std=False)\n",
    "#std_scale = StandardScaler()\n",
    "\n",
    "#Defining the CV method: Using the Repeated Stratified K Fold\n",
    "###############################################################################\n",
    "\n",
    "n_folds=5\n",
    "n_repeats=5\n",
    "\n",
    "rskfold = RepeatedStratifiedKFold(n_splits=n_folds, n_repeats=n_repeats, random_state=2)\n",
    "\n",
    "#Creating simple pipeline and defining the gridsearch\n",
    "###############################################################################\n",
    "\n",
    "log_clf_pipe = Pipeline(steps=[('scale',std_scale), ('clf',log_reg)])\n",
    "\n",
    "log_clf = GridSearchCV(estimator=log_clf_pipe, cv=rskfold,\n",
    "              scoring=scoring, return_train_score=True,\n",
    "              param_grid=dict(clf__C=C), refit='Accuracy')\n",
    "\n",
    "log_clf.fit(X, y)\n",
    "results = log_clf.cv_results_\n",
    "\n",
    "print('='*20)\n",
    "print(\"best params: \" + str(log_clf.best_estimator_))\n",
    "print(\"best params: \" + str(log_clf.best_params_))\n",
    "print('best score:', log_clf.best_score_)\n",
    "print('='*20)\n",
    "\n",
    "plt.figure(figsize=(10, 10))\n",
    "plt.title(\"GridSearchCV evaluating using multiple scorers simultaneously\",fontsize=16)\n",
    "\n",
    "plt.xlabel(\"Inverse of regularization strength: C\")\n",
    "plt.ylabel(\"Score\")\n",
    "plt.grid()\n",
    "\n",
    "ax = plt.axes()\n",
    "ax.set_xlim(0, C.max()) \n",
    "ax.set_ylim(0.35, 0.95)\n",
    "\n",
    "# Get the regular numpy array from the MaskedArray\n",
    "X_axis = np.array(results['param_clf__C'].data, dtype=float)\n",
    "\n",
    "for scorer, color in zip(list(scoring.keys()), ['g', 'k', 'b']): \n",
    "    for sample, style in (('train', '--'), ('test', '-')):\n",
    "        sample_score_mean = -results['mean_%s_%s' % (sample, scorer)] if scoring[scorer]=='neg_log_loss' else results['mean_%s_%s' % (sample, scorer)]\n",
    "        sample_score_std = results['std_%s_%s' % (sample, scorer)]\n",
    "        ax.fill_between(X_axis, sample_score_mean - sample_score_std,\n",
    "                        sample_score_mean + sample_score_std,\n",
    "                        alpha=0.1 if sample == 'test' else 0, color=color)\n",
    "        ax.plot(X_axis, sample_score_mean, style, color=color,\n",
    "                alpha=1 if sample == 'test' else 0.7,\n",
    "                label=\"%s (%s)\" % (scorer, sample))\n",
    "\n",
    "    best_index = np.nonzero(results['rank_test_%s' % scorer] == 1)[0][0]\n",
    "    best_score = -results['mean_test_%s' % scorer][best_index] if scoring[scorer]=='neg_log_loss' else results['mean_test_%s' % scorer][best_index]\n",
    "        \n",
    "    # Plot a dotted vertical line at the best score for that scorer marked by x\n",
    "    ax.plot([X_axis[best_index], ] * 2, [0, best_score],\n",
    "            linestyle='-.', color=color, marker='x', markeredgewidth=3, ms=8)\n",
    "\n",
    "    # Annotate the best score for that scorer\n",
    "    ax.annotate(\"%0.2f\" % best_score,\n",
    "                (X_axis[best_index], best_score + 0.005))\n",
    "\n",
    "plt.legend(loc=\"best\")\n",
    "plt.grid('off')\n",
    "plt.show()"
   ]
  },
  {
   "cell_type": "markdown",
   "id": "preceding-sacrifice",
   "metadata": {
    "papermill": {
     "duration": 0.080479,
     "end_time": "2021-05-20T08:05:18.016673",
     "exception": false,
     "start_time": "2021-05-20T08:05:17.936194",
     "status": "completed"
    },
    "tags": []
   },
   "source": [
    "<a id=\"t4\"></a>\n",
    "# 4 Generate Prediction Results"
   ]
  },
  {
   "cell_type": "code",
   "execution_count": 46,
   "id": "satisfied-tissue",
   "metadata": {
    "execution": {
     "iopub.execute_input": "2021-05-20T08:05:18.193222Z",
     "iopub.status.busy": "2021-05-20T08:05:18.192291Z",
     "iopub.status.idle": "2021-05-20T08:05:18.204268Z",
     "shell.execute_reply": "2021-05-20T08:05:18.203771Z",
     "shell.execute_reply.started": "2021-05-20T08:03:04.776456Z"
    },
    "papermill": {
     "duration": 0.105393,
     "end_time": "2021-05-20T08:05:18.204405",
     "exception": false,
     "start_time": "2021-05-20T08:05:18.099012",
     "status": "completed"
    },
    "tags": []
   },
   "outputs": [
    {
     "data": {
      "text/html": [
       "<div>\n",
       "<style scoped>\n",
       "    .dataframe tbody tr th:only-of-type {\n",
       "        vertical-align: middle;\n",
       "    }\n",
       "\n",
       "    .dataframe tbody tr th {\n",
       "        vertical-align: top;\n",
       "    }\n",
       "\n",
       "    .dataframe thead th {\n",
       "        text-align: right;\n",
       "    }\n",
       "</style>\n",
       "<table border=\"1\" class=\"dataframe\">\n",
       "  <thead>\n",
       "    <tr style=\"text-align: right;\">\n",
       "      <th></th>\n",
       "      <th>PassengerId</th>\n",
       "      <th>Survived</th>\n",
       "    </tr>\n",
       "  </thead>\n",
       "  <tbody>\n",
       "    <tr>\n",
       "      <th>413</th>\n",
       "      <td>1305</td>\n",
       "      <td>0</td>\n",
       "    </tr>\n",
       "    <tr>\n",
       "      <th>414</th>\n",
       "      <td>1306</td>\n",
       "      <td>1</td>\n",
       "    </tr>\n",
       "    <tr>\n",
       "      <th>415</th>\n",
       "      <td>1307</td>\n",
       "      <td>0</td>\n",
       "    </tr>\n",
       "    <tr>\n",
       "      <th>416</th>\n",
       "      <td>1308</td>\n",
       "      <td>0</td>\n",
       "    </tr>\n",
       "    <tr>\n",
       "      <th>417</th>\n",
       "      <td>1309</td>\n",
       "      <td>0</td>\n",
       "    </tr>\n",
       "  </tbody>\n",
       "</table>\n",
       "</div>"
      ],
      "text/plain": [
       "     PassengerId  Survived\n",
       "413         1305         0\n",
       "414         1306         1\n",
       "415         1307         0\n",
       "416         1308         0\n",
       "417         1309         0"
      ]
     },
     "execution_count": 46,
     "metadata": {},
     "output_type": "execute_result"
    }
   ],
   "source": [
    "test_data['Survived'] = log_clf.predict(test_data[Selected_features])\n",
    "test_data['PassengerId'] = test_df['PassengerId']\n",
    "\n",
    "submission = test_data[['PassengerId','Survived']]\n",
    "\n",
    "submission.to_csv(\"submission.csv\", index=False)\n",
    "\n",
    "submission.tail()"
   ]
  }
 ],
 "metadata": {
  "kernelspec": {
   "display_name": "Python 3",
   "language": "python",
   "name": "python3"
  },
  "language_info": {
   "codemirror_mode": {
    "name": "ipython",
    "version": 3
   },
   "file_extension": ".py",
   "mimetype": "text/x-python",
   "name": "python",
   "nbconvert_exporter": "python",
   "pygments_lexer": "ipython3",
   "version": "3.7.10"
  },
  "papermill": {
   "default_parameters": {},
   "duration": 72.487987,
   "end_time": "2021-05-20T08:05:18.995904",
   "environment_variables": {},
   "exception": null,
   "input_path": "__notebook__.ipynb",
   "output_path": "__notebook__.ipynb",
   "parameters": {},
   "start_time": "2021-05-20T08:04:06.507917",
   "version": "2.3.3"
  }
 },
 "nbformat": 4,
 "nbformat_minor": 5
}
